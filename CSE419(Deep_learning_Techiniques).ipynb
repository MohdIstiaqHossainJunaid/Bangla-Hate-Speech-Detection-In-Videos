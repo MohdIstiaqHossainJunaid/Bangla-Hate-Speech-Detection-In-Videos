{
  "nbformat": 4,
  "nbformat_minor": 0,
  "metadata": {
    "colab": {
      "name": "CSE419(Deep learning Techiniques).ipynb",
      "provenance": [],
      "authorship_tag": "ABX9TyOEWjiG9hteeVaUJ1k99gzh",
      "include_colab_link": true
    },
    "kernelspec": {
      "name": "python3",
      "display_name": "Python 3"
    },
    "language_info": {
      "name": "python"
    }
  },
  "cells": [
    {
      "cell_type": "markdown",
      "metadata": {
        "id": "view-in-github",
        "colab_type": "text"
      },
      "source": [
        "<a href=\"https://colab.research.google.com/github/MohdIstiaqHossainJunaid/Bangla-Hate-Speech-Detection-In-videos/blob/main/CSE419(Deep_learning_Techiniques).ipynb\" target=\"_parent\"><img src=\"https://colab.research.google.com/assets/colab-badge.svg\" alt=\"Open In Colab\"/></a>"
      ]
    },
    {
      "cell_type": "markdown",
      "metadata": {
        "id": "n2sgfBC-6H-Z"
      },
      "source": [
        "**Bangla Hate Speech Detection from videos**(Deep Learning Techniques)"
      ]
    },
    {
      "cell_type": "code",
      "metadata": {
        "colab": {
          "base_uri": "https://localhost:8080/"
        },
        "id": "i9PM0tK85wUu",
        "outputId": "24ec056d-f7ca-4775-fa27-43ba288f7463"
      },
      "source": [
        "from google.colab import drive\n",
        "drive.mount('/content/drive')"
      ],
      "execution_count": null,
      "outputs": [
        {
          "output_type": "stream",
          "name": "stdout",
          "text": [
            "Drive already mounted at /content/drive; to attempt to forcibly remount, call drive.mount(\"/content/drive\", force_remount=True).\n"
          ]
        }
      ]
    },
    {
      "cell_type": "code",
      "metadata": {
        "id": "17UBKocg5366",
        "colab": {
          "base_uri": "https://localhost:8080/",
          "height": 17
        },
        "outputId": "f5f96949-b8ca-4c31-f3bb-3d5cfcac6331"
      },
      "source": [
        "import tensorflow as tf\n",
        "import pandas as pd\n",
        "import matplotlib.pyplot as plt\n",
        "import random\n",
        "random.seed(8)\n",
        "import string \n",
        "import cufflinks as cf\n",
        "import seaborn as sns\n",
        "from plotly.offline import download_plotlyjs,init_notebook_mode,plot,iplot\n",
        "%matplotlib inline\n",
        "init_notebook_mode(connected=True)\n",
        "cf.go_offline()\n",
        "import numpy as np\n",
        "import pandas as pd\n",
        "import matplotlib.pyplot as plt\n",
        "%matplotlib inline\n",
        "import re\n",
        "import nltk\n",
        "from nltk.stem import PorterStemmer\n",
        "from nltk.sentiment.vader import SentimentIntensityAnalyzer\n",
        "from sklearn.metrics import accuracy_score,classification_report,confusion_matrix\n",
        "from sklearn.feature_extraction.text import CountVectorizer\n",
        "from sklearn.feature_extraction.text import TfidfTransformer\n",
        "from sklearn.pipeline import Pipeline\n",
        "from sklearn.model_selection import train_test_split\n",
        "from sklearn.feature_extraction.text import TfidfVectorizer\n",
        "from sklearn.svm import LinearSVC\n",
        "from sklearn import metrics\n",
        "from sklearn.naive_bayes import MultinomialNB\n",
        "from sklearn.svm import SVC\n",
        "from sklearn import tree\n",
        "import warnings\n",
        "warnings.filterwarnings(\"ignore\")\n",
        "from os import path\n",
        "from PIL import Image\n",
        "from wordcloud import WordCloud, STOPWORDS, ImageColorGenerator\n",
        "\n",
        "from numpy.random import seed\n",
        "seed(1)\n",
        "\n",
        "import tensorflow\n",
        "tensorflow.random.set_seed(1)\n",
        "\n",
        "\n",
        "\n"
      ],
      "execution_count": null,
      "outputs": [
        {
          "output_type": "display_data",
          "data": {
            "text/html": [
              "        <script type=\"text/javascript\">\n",
              "        window.PlotlyConfig = {MathJaxConfig: 'local'};\n",
              "        if (window.MathJax) {MathJax.Hub.Config({SVG: {font: \"STIX-Web\"}});}\n",
              "        if (typeof require !== 'undefined') {\n",
              "        require.undef(\"plotly\");\n",
              "        requirejs.config({\n",
              "            paths: {\n",
              "                'plotly': ['https://cdn.plot.ly/plotly-latest.min']\n",
              "            }\n",
              "        });\n",
              "        require(['plotly'], function(Plotly) {\n",
              "            window._Plotly = Plotly;\n",
              "        });\n",
              "        }\n",
              "        </script>\n",
              "        "
            ]
          },
          "metadata": {}
        },
        {
          "output_type": "display_data",
          "data": {
            "text/html": [
              "        <script type=\"text/javascript\">\n",
              "        window.PlotlyConfig = {MathJaxConfig: 'local'};\n",
              "        if (window.MathJax) {MathJax.Hub.Config({SVG: {font: \"STIX-Web\"}});}\n",
              "        if (typeof require !== 'undefined') {\n",
              "        require.undef(\"plotly\");\n",
              "        requirejs.config({\n",
              "            paths: {\n",
              "                'plotly': ['https://cdn.plot.ly/plotly-latest.min']\n",
              "            }\n",
              "        });\n",
              "        require(['plotly'], function(Plotly) {\n",
              "            window._Plotly = Plotly;\n",
              "        });\n",
              "        }\n",
              "        </script>\n",
              "        "
            ]
          },
          "metadata": {}
        }
      ]
    },
    {
      "cell_type": "code",
      "metadata": {
        "id": "4Rcs0u9g520C"
      },
      "source": [
        "import pandas as pd\n",
        "import io\n",
        "df = pd.read_csv(\"/content/drive/MyDrive/Playing with Data/CSE419 (Hate Speech Detection From videos)/Bangla Hate Speech Dectection.csv\")\n"
      ],
      "execution_count": null,
      "outputs": []
    },
    {
      "cell_type": "markdown",
      "metadata": {
        "id": "OJLvi25mhzRk"
      },
      "source": [
        "## Removing punctuations"
      ]
    },
    {
      "cell_type": "code",
      "metadata": {
        "colab": {
          "base_uri": "https://localhost:8080/",
          "height": 35
        },
        "id": "5KK2cP4zjSxa",
        "outputId": "557809bf-ce43-41cf-c6da-d2e33a3eb52e"
      },
      "source": [
        "string.punctuation"
      ],
      "execution_count": null,
      "outputs": [
        {
          "output_type": "execute_result",
          "data": {
            "application/vnd.google.colaboratory.intrinsic+json": {
              "type": "string"
            },
            "text/plain": [
              "'!\"#$%&\\'()*+,-./:;<=>?@[\\\\]^_`{|}~'"
            ]
          },
          "metadata": {},
          "execution_count": 37
        }
      ]
    },
    {
      "cell_type": "code",
      "metadata": {
        "id": "Y90JjizYjY2K"
      },
      "source": [
        "def remove_punctuation(txt):\n",
        "    txt_nopunct = \"\".join([c for c in txt if c not in string.punctuation])\n",
        "    return txt_nopunct"
      ],
      "execution_count": null,
      "outputs": []
    },
    {
      "cell_type": "code",
      "metadata": {
        "id": "8lVZSr0shzRl",
        "colab": {
          "base_uri": "https://localhost:8080/",
          "height": 286
        },
        "outputId": "a142ed96-69f0-41d9-94d4-fac43a550add"
      },
      "source": [
        "df['msg_clean'] = df['Speech'].apply(lambda x:remove_punctuation(x))\n",
        "df.head()"
      ],
      "execution_count": null,
      "outputs": [
        {
          "output_type": "execute_result",
          "data": {
            "text/html": [
              "<div>\n",
              "<style scoped>\n",
              "    .dataframe tbody tr th:only-of-type {\n",
              "        vertical-align: middle;\n",
              "    }\n",
              "\n",
              "    .dataframe tbody tr th {\n",
              "        vertical-align: top;\n",
              "    }\n",
              "\n",
              "    .dataframe thead th {\n",
              "        text-align: right;\n",
              "    }\n",
              "</style>\n",
              "<table border=\"1\" class=\"dataframe\">\n",
              "  <thead>\n",
              "    <tr style=\"text-align: right;\">\n",
              "      <th></th>\n",
              "      <th>Serial</th>\n",
              "      <th>Youtube_ID</th>\n",
              "      <th>Speech</th>\n",
              "      <th>Label</th>\n",
              "      <th>msg_clean</th>\n",
              "    </tr>\n",
              "  </thead>\n",
              "  <tbody>\n",
              "    <tr>\n",
              "      <th>0</th>\n",
              "      <td>1</td>\n",
              "      <td>https://www.youtube.com/watch?v=_IzHIQvdohs</td>\n",
              "      <td>এত রাত, BNP রা এখানে যে গালাগালি দেতাসে এক কিন...</td>\n",
              "      <td>1</td>\n",
              "      <td>এত রাত BNP রা এখানে যে গালাগালি দেতাসে এক কিন্...</td>\n",
              "    </tr>\n",
              "    <tr>\n",
              "      <th>1</th>\n",
              "      <td>2</td>\n",
              "      <td>https://www.youtube.com/watch?v=2-ndr2h28jY</td>\n",
              "      <td>জীবনের যারা মুক্তি চাইতেছে আমি তারা বাইরে আসো ...</td>\n",
              "      <td>1</td>\n",
              "      <td>জীবনের যারা মুক্তি চাইতেছে আমি তারা বাইরে আসো ...</td>\n",
              "    </tr>\n",
              "    <tr>\n",
              "      <th>2</th>\n",
              "      <td>3</td>\n",
              "      <td>https://www.youtube.com/watch?v=88loU_FL5MM</td>\n",
              "      <td>আচ্ছা ও কি একদম পাগল হয়ে গেল নাকি? নির্লজ্জ ব...</td>\n",
              "      <td>1</td>\n",
              "      <td>আচ্ছা ও কি একদম পাগল হয়ে গেল নাকি নির্লজ্জ বে...</td>\n",
              "    </tr>\n",
              "    <tr>\n",
              "      <th>3</th>\n",
              "      <td>4</td>\n",
              "      <td>https://www.youtube.com/watch?v=bMYKQydmWCE</td>\n",
              "      <td>আমাকে পরিমরি খান তুই গণভবনে শেখ হাসিনার জামা ক...</td>\n",
              "      <td>1</td>\n",
              "      <td>আমাকে পরিমরি খান তুই গণভবনে শেখ হাসিনার জামা ক...</td>\n",
              "    </tr>\n",
              "    <tr>\n",
              "      <th>4</th>\n",
              "      <td>5</td>\n",
              "      <td>https://www.youtube.com/watch?v=E_EQzQf2TLY</td>\n",
              "      <td>এ সেফাতুল্লার কারে শালা তুই বেয়াই বেয়াই কর, ...</td>\n",
              "      <td>1</td>\n",
              "      <td>এ সেফাতুল্লার কারে শালা তুই বেয়াই বেয়াই কর ত...</td>\n",
              "    </tr>\n",
              "  </tbody>\n",
              "</table>\n",
              "</div>"
            ],
            "text/plain": [
              "   Serial  ...                                          msg_clean\n",
              "0       1  ...  এত রাত BNP রা এখানে যে গালাগালি দেতাসে এক কিন্...\n",
              "1       2  ...  জীবনের যারা মুক্তি চাইতেছে আমি তারা বাইরে আসো ...\n",
              "2       3  ...  আচ্ছা ও কি একদম পাগল হয়ে গেল নাকি নির্লজ্জ বে...\n",
              "3       4  ...  আমাকে পরিমরি খান তুই গণভবনে শেখ হাসিনার জামা ক...\n",
              "4       5  ...  এ সেফাতুল্লার কারে শালা তুই বেয়াই বেয়াই কর ত...\n",
              "\n",
              "[5 rows x 5 columns]"
            ]
          },
          "metadata": {},
          "execution_count": 39
        }
      ]
    },
    {
      "cell_type": "code",
      "metadata": {
        "colab": {
          "base_uri": "https://localhost:8080/"
        },
        "id": "JqTVsloYklpe",
        "outputId": "081cb6b0-743f-4243-df08-ffa018716746"
      },
      "source": [
        "pip install bnlp_toolkit"
      ],
      "execution_count": null,
      "outputs": [
        {
          "output_type": "stream",
          "name": "stdout",
          "text": [
            "Requirement already satisfied: bnlp_toolkit in /usr/local/lib/python3.7/dist-packages (3.1.2)\n",
            "Requirement already satisfied: wasabi in /usr/local/lib/python3.7/dist-packages (from bnlp_toolkit) (0.8.2)\n",
            "Requirement already satisfied: gensim==4.0.1 in /usr/local/lib/python3.7/dist-packages (from bnlp_toolkit) (4.0.1)\n",
            "Requirement already satisfied: nltk in /usr/local/lib/python3.7/dist-packages (from bnlp_toolkit) (3.2.5)\n",
            "Requirement already satisfied: sklearn-crfsuite in /usr/local/lib/python3.7/dist-packages (from bnlp_toolkit) (0.3.6)\n",
            "Requirement already satisfied: sentencepiece in /usr/local/lib/python3.7/dist-packages (from bnlp_toolkit) (0.1.96)\n",
            "Requirement already satisfied: scipy in /usr/local/lib/python3.7/dist-packages (from bnlp_toolkit) (1.4.1)\n",
            "Requirement already satisfied: numpy in /usr/local/lib/python3.7/dist-packages (from bnlp_toolkit) (1.19.5)\n",
            "Requirement already satisfied: smart-open>=1.8.1 in /usr/local/lib/python3.7/dist-packages (from gensim==4.0.1->bnlp_toolkit) (5.1.0)\n",
            "Requirement already satisfied: six in /usr/local/lib/python3.7/dist-packages (from nltk->bnlp_toolkit) (1.15.0)\n",
            "Requirement already satisfied: tqdm>=2.0 in /usr/local/lib/python3.7/dist-packages (from sklearn-crfsuite->bnlp_toolkit) (4.62.0)\n",
            "Requirement already satisfied: python-crfsuite>=0.8.3 in /usr/local/lib/python3.7/dist-packages (from sklearn-crfsuite->bnlp_toolkit) (0.9.7)\n",
            "Requirement already satisfied: tabulate in /usr/local/lib/python3.7/dist-packages (from sklearn-crfsuite->bnlp_toolkit) (0.8.9)\n"
          ]
        }
      ]
    },
    {
      "cell_type": "markdown",
      "metadata": {
        "id": "GQhbyDfbsdxd"
      },
      "source": [
        "## **Bangla Tokenization and Bangla Stopword Removing**"
      ]
    },
    {
      "cell_type": "code",
      "metadata": {
        "id": "M0s-TQJsqa6a"
      },
      "source": [
        "from bnlp import BasicTokenizer\n",
        "basic_tokenizer = BasicTokenizer()\n",
        "\n",
        "df['tokenized'] = df['msg_clean'].apply(lambda x: basic_tokenizer.tokenize(x))\n"
      ],
      "execution_count": null,
      "outputs": []
    },
    {
      "cell_type": "code",
      "metadata": {
        "colab": {
          "base_uri": "https://localhost:8080/"
        },
        "id": "YXSZFasslWHm",
        "outputId": "ebb5c051-5302-4334-fb3d-7c6b532e4bc7"
      },
      "source": [
        "import csv\n",
        "stop_words='/content/drive/MyDrive/Playing with Data/CSE419 (Hate Speech Detection From videos)/stopwords-bn.txt'\n",
        "text_data=[]\n",
        "with open(stop_words,'r',encoding='utf-8') as temp_output_file:\n",
        "    reader=csv.reader(temp_output_file, delimiter='\\n')\n",
        "    for row in reader:\n",
        "        text_data.append(row)\n",
        "stop_word_list=[x[0] for x in text_data]\n",
        "print(stop_word_list[0:100])\n",
        "print(type(stop_word_list))"
      ],
      "execution_count": null,
      "outputs": [
        {
          "output_type": "stream",
          "name": "stdout",
          "text": [
            "['অতএব', 'অথচ', 'অথবা', 'অনুযায়ী', 'অনেক', 'অনেকে', 'অনেকেই', 'অন্তত', 'অন্য', 'অবধি', 'অবশ্য', 'অর্থাত', 'আই', 'আগামী', 'আগে', 'আগেই', 'আছে', 'আজ', 'আদ্যভাগে', 'আপনার', 'আপনি', 'আবার', 'আমরা', 'আমাকে', 'আমাদের', 'আমার', 'আমি', 'আর', 'আরও', 'ই', 'ইত্যাদি', 'ইহা', 'উচিত', 'উত্তর', 'উনি', 'উপর', 'উপরে', 'এ', 'এঁদের', 'এঁরা', 'এই', 'একই', 'একটি', 'একবার', 'একে', 'এক্', 'এখন', 'এখনও', 'এখানে', 'এখানেই', 'এটা', 'এটাই', 'এটি', 'এত', 'এতটাই', 'এতে', 'এদের', 'এব', 'এবং', 'এবার', 'এমন', 'এমনকী', 'এমনি', 'এর', 'এরা', 'এল', 'এস', 'এসে', 'ঐ', 'ও', 'ওঁদের', 'ওঁর', 'ওঁরা', 'ওই', 'ওকে', 'ওখানে', 'ওদের', 'ওর', 'ওরা', 'কখনও', 'কত', 'কবে', 'কমনে', 'কয়েক', 'কয়েকটি', 'করছে', 'করছেন', 'করতে', 'করবে', 'করবেন', 'করলে', 'করলেন', 'করা', 'করাই', 'করায়', 'করার', 'করি', 'করিতে', 'করিয়া', 'করিয়ে']\n",
            "<class 'list'>\n"
          ]
        }
      ]
    },
    {
      "cell_type": "code",
      "metadata": {
        "colab": {
          "base_uri": "https://localhost:8080/",
          "height": 950
        },
        "id": "v1bthTQzG_NK",
        "outputId": "e9b2456e-8307-4650-bfe2-1a89bea942e8"
      },
      "source": [
        "from bnlp.corpus import stopwords\n",
        "from bnlp.corpus.util import remove_stopwords\n",
        "\n",
        "df['Removed Stopped word'] = df['msg_clean'].apply(lambda x: remove_stopwords(x,stopwords))\n",
        "df "
      ],
      "execution_count": null,
      "outputs": [
        {
          "output_type": "execute_result",
          "data": {
            "text/html": [
              "<div>\n",
              "<style scoped>\n",
              "    .dataframe tbody tr th:only-of-type {\n",
              "        vertical-align: middle;\n",
              "    }\n",
              "\n",
              "    .dataframe tbody tr th {\n",
              "        vertical-align: top;\n",
              "    }\n",
              "\n",
              "    .dataframe thead th {\n",
              "        text-align: right;\n",
              "    }\n",
              "</style>\n",
              "<table border=\"1\" class=\"dataframe\">\n",
              "  <thead>\n",
              "    <tr style=\"text-align: right;\">\n",
              "      <th></th>\n",
              "      <th>Serial</th>\n",
              "      <th>Youtube_ID</th>\n",
              "      <th>Speech</th>\n",
              "      <th>Label</th>\n",
              "      <th>msg_clean</th>\n",
              "      <th>tokenized</th>\n",
              "      <th>Removed Stopped word</th>\n",
              "    </tr>\n",
              "  </thead>\n",
              "  <tbody>\n",
              "    <tr>\n",
              "      <th>0</th>\n",
              "      <td>1</td>\n",
              "      <td>https://www.youtube.com/watch?v=_IzHIQvdohs</td>\n",
              "      <td>এত রাত, BNP রা এখানে যে গালাগালি দেতাসে এক কিন...</td>\n",
              "      <td>1</td>\n",
              "      <td>এত রাত BNP রা এখানে যে গালাগালি দেতাসে এক কিন্...</td>\n",
              "      <td>[এত, রাত, BNP, রা, এখানে, যে, গালাগালি, দেতাসে...</td>\n",
              "      <td>[রাত, BNP, রা, গালাগালি, দেতাসে, এক, Facebook,...</td>\n",
              "    </tr>\n",
              "    <tr>\n",
              "      <th>1</th>\n",
              "      <td>2</td>\n",
              "      <td>https://www.youtube.com/watch?v=2-ndr2h28jY</td>\n",
              "      <td>জীবনের যারা মুক্তি চাইতেছে আমি তারা বাইরে আসো ...</td>\n",
              "      <td>1</td>\n",
              "      <td>জীবনের যারা মুক্তি চাইতেছে আমি তারা বাইরে আসো ...</td>\n",
              "      <td>[জীবনের, যারা, মুক্তি, চাইতেছে, আমি, তারা, বাই...</td>\n",
              "      <td>[জীবনের, মুক্তি, চাইতেছে, বাইরে, আসো, কথাবার্ত...</td>\n",
              "    </tr>\n",
              "    <tr>\n",
              "      <th>2</th>\n",
              "      <td>3</td>\n",
              "      <td>https://www.youtube.com/watch?v=88loU_FL5MM</td>\n",
              "      <td>আচ্ছা ও কি একদম পাগল হয়ে গেল নাকি? নির্লজ্জ ব...</td>\n",
              "      <td>1</td>\n",
              "      <td>আচ্ছা ও কি একদম পাগল হয়ে গেল নাকি নির্লজ্জ বে...</td>\n",
              "      <td>[আচ্ছা, ও, কি, একদম, পাগল, হয়ে, গেল, নাকি, নি...</td>\n",
              "      <td>[আচ্ছা, একদম, পাগল, নির্লজ্জ, বেহায়া, ছোটলোক,...</td>\n",
              "    </tr>\n",
              "    <tr>\n",
              "      <th>3</th>\n",
              "      <td>4</td>\n",
              "      <td>https://www.youtube.com/watch?v=bMYKQydmWCE</td>\n",
              "      <td>আমাকে পরিমরি খান তুই গণভবনে শেখ হাসিনার জামা ক...</td>\n",
              "      <td>1</td>\n",
              "      <td>আমাকে পরিমরি খান তুই গণভবনে শেখ হাসিনার জামা ক...</td>\n",
              "      <td>[আমাকে, পরিমরি, খান, তুই, গণভবনে, শেখ, হাসিনার...</td>\n",
              "      <td>[পরিমরি, খান, তুই, গণভবনে, শেখ, হাসিনার, জামা,...</td>\n",
              "    </tr>\n",
              "    <tr>\n",
              "      <th>4</th>\n",
              "      <td>5</td>\n",
              "      <td>https://www.youtube.com/watch?v=E_EQzQf2TLY</td>\n",
              "      <td>এ সেফাতুল্লার কারে শালা তুই বেয়াই বেয়াই কর, ...</td>\n",
              "      <td>1</td>\n",
              "      <td>এ সেফাতুল্লার কারে শালা তুই বেয়াই বেয়াই কর ত...</td>\n",
              "      <td>[এ, সেফাতুল্লার, কারে, শালা, তুই, বেয়াই, বেয়...</td>\n",
              "      <td>[সেফাতুল্লার, কারে, শালা, তুই, বেয়াই, বেয়াই,...</td>\n",
              "    </tr>\n",
              "    <tr>\n",
              "      <th>...</th>\n",
              "      <td>...</td>\n",
              "      <td>...</td>\n",
              "      <td>...</td>\n",
              "      <td>...</td>\n",
              "      <td>...</td>\n",
              "      <td>...</td>\n",
              "      <td>...</td>\n",
              "    </tr>\n",
              "    <tr>\n",
              "      <th>187</th>\n",
              "      <td>188</td>\n",
              "      <td>https://www.youtube.com/watch?v=gYs1hny8j7s</td>\n",
              "      <td>কালকিনি উপজেলার ডাসার থানা পূর্ব বদলা গ্রামের ...</td>\n",
              "      <td>0</td>\n",
              "      <td>কালকিনি উপজেলার ডাসার থানা পূর্ব বদলা গ্রামের ...</td>\n",
              "      <td>[কালকিনি, উপজেলার, ডাসার, থানা, পূর্ব, বদলা, গ...</td>\n",
              "      <td>[কালকিনি, উপজেলার, ডাসার, থানা, পূর্ব, বদলা, গ...</td>\n",
              "    </tr>\n",
              "    <tr>\n",
              "      <th>188</th>\n",
              "      <td>189</td>\n",
              "      <td>https://www.youtube.com/watch?v=bwR3C_qIYyQ</td>\n",
              "      <td>হবিগঞ্জের বানিয়াচক উপজেলার জল মোহন নিয়ে কামা...</td>\n",
              "      <td>0</td>\n",
              "      <td>হবিগঞ্জের বানিয়াচক উপজেলার জল মোহন নিয়ে কামা...</td>\n",
              "      <td>[হবিগঞ্জের, বানিয়াচক, উপজেলার, জল, মোহন, নিয়...</td>\n",
              "      <td>[হবিগঞ্জের, বানিয়াচক, উপজেলার, জল, মোহন, কামা...</td>\n",
              "    </tr>\n",
              "    <tr>\n",
              "      <th>189</th>\n",
              "      <td>190</td>\n",
              "      <td>https://www.youtube.com/watch?v=KiP8gWUK83M</td>\n",
              "      <td>অব্যবস্থাপনা নিয়ে টিকা প্রত্যাশীদের এই ক্ষোভ....</td>\n",
              "      <td>0</td>\n",
              "      <td>অব্যবস্থাপনা নিয়ে টিকা প্রত্যাশীদের এই ক্ষোভ ...</td>\n",
              "      <td>[অব্যবস্থাপনা, নিয়ে, টিকা, প্রত্যাশীদের, এই, ...</td>\n",
              "      <td>[অব্যবস্থাপনা, টিকা, প্রত্যাশীদের, ক্ষোভ, ভোর,...</td>\n",
              "    </tr>\n",
              "    <tr>\n",
              "      <th>190</th>\n",
              "      <td>191</td>\n",
              "      <td>https://www.youtube.com/watch?v=NrIUfA6RZJk&amp;ab...</td>\n",
              "      <td>এই শিশু কিশোরদের আটক করা হয়েছে কক্সবাজার থেকে...</td>\n",
              "      <td>0</td>\n",
              "      <td>এই শিশু কিশোরদের আটক করা হয়েছে কক্সবাজার থেকে...</td>\n",
              "      <td>[এই, শিশু, কিশোরদের, আটক, করা, হয়েছে, কক্সবাজ...</td>\n",
              "      <td>[শিশু, কিশোরদের, আটক, কক্সবাজার, চট্টগ্রাম, আস...</td>\n",
              "    </tr>\n",
              "    <tr>\n",
              "      <th>191</th>\n",
              "      <td>192</td>\n",
              "      <td>https://www.youtube.com/watch?v=mx4lxr5jSg0&amp;ab...</td>\n",
              "      <td>বোকা চোদা ,বোকা, চো চো চো দা দা দা দা</td>\n",
              "      <td>1</td>\n",
              "      <td>বোকা চোদা বোকা চো চো চো দা দা দা দা</td>\n",
              "      <td>[বোকা, চোদা, বোকা, চো, চো, চো, দা, দা, দা, দা]</td>\n",
              "      <td>[বোকা, চোদা, বোকা, চো, চো, চো, দা, দা, দা, দা]</td>\n",
              "    </tr>\n",
              "  </tbody>\n",
              "</table>\n",
              "<p>192 rows × 7 columns</p>\n",
              "</div>"
            ],
            "text/plain": [
              "     Serial  ...                               Removed Stopped word\n",
              "0         1  ...  [রাত, BNP, রা, গালাগালি, দেতাসে, এক, Facebook,...\n",
              "1         2  ...  [জীবনের, মুক্তি, চাইতেছে, বাইরে, আসো, কথাবার্ত...\n",
              "2         3  ...  [আচ্ছা, একদম, পাগল, নির্লজ্জ, বেহায়া, ছোটলোক,...\n",
              "3         4  ...  [পরিমরি, খান, তুই, গণভবনে, শেখ, হাসিনার, জামা,...\n",
              "4         5  ...  [সেফাতুল্লার, কারে, শালা, তুই, বেয়াই, বেয়াই,...\n",
              "..      ...  ...                                                ...\n",
              "187     188  ...  [কালকিনি, উপজেলার, ডাসার, থানা, পূর্ব, বদলা, গ...\n",
              "188     189  ...  [হবিগঞ্জের, বানিয়াচক, উপজেলার, জল, মোহন, কামা...\n",
              "189     190  ...  [অব্যবস্থাপনা, টিকা, প্রত্যাশীদের, ক্ষোভ, ভোর,...\n",
              "190     191  ...  [শিশু, কিশোরদের, আটক, কক্সবাজার, চট্টগ্রাম, আস...\n",
              "191     192  ...     [বোকা, চোদা, বোকা, চো, চো, চো, দা, দা, দা, দা]\n",
              "\n",
              "[192 rows x 7 columns]"
            ]
          },
          "metadata": {},
          "execution_count": 43
        }
      ]
    },
    {
      "cell_type": "code",
      "metadata": {
        "colab": {
          "base_uri": "https://localhost:8080/",
          "height": 570
        },
        "id": "c36XgZb0BBnk",
        "outputId": "1b6dc5c5-03e3-4ece-90ed-5d14d4d4601c"
      },
      "source": [
        "df['sentence']=df['Removed Stopped word'].apply(' '.join)\n",
        "df.head()"
      ],
      "execution_count": null,
      "outputs": [
        {
          "output_type": "execute_result",
          "data": {
            "text/html": [
              "<div>\n",
              "<style scoped>\n",
              "    .dataframe tbody tr th:only-of-type {\n",
              "        vertical-align: middle;\n",
              "    }\n",
              "\n",
              "    .dataframe tbody tr th {\n",
              "        vertical-align: top;\n",
              "    }\n",
              "\n",
              "    .dataframe thead th {\n",
              "        text-align: right;\n",
              "    }\n",
              "</style>\n",
              "<table border=\"1\" class=\"dataframe\">\n",
              "  <thead>\n",
              "    <tr style=\"text-align: right;\">\n",
              "      <th></th>\n",
              "      <th>Serial</th>\n",
              "      <th>Youtube_ID</th>\n",
              "      <th>Speech</th>\n",
              "      <th>Label</th>\n",
              "      <th>msg_clean</th>\n",
              "      <th>tokenized</th>\n",
              "      <th>Removed Stopped word</th>\n",
              "      <th>sentence</th>\n",
              "    </tr>\n",
              "  </thead>\n",
              "  <tbody>\n",
              "    <tr>\n",
              "      <th>0</th>\n",
              "      <td>1</td>\n",
              "      <td>https://www.youtube.com/watch?v=_IzHIQvdohs</td>\n",
              "      <td>এত রাত, BNP রা এখানে যে গালাগালি দেতাসে এক কিন...</td>\n",
              "      <td>1</td>\n",
              "      <td>এত রাত BNP রা এখানে যে গালাগালি দেতাসে এক কিন্...</td>\n",
              "      <td>[এত, রাত, BNP, রা, এখানে, যে, গালাগালি, দেতাসে...</td>\n",
              "      <td>[রাত, BNP, রা, গালাগালি, দেতাসে, এক, Facebook,...</td>\n",
              "      <td>রাত BNP রা গালাগালি দেতাসে এক Facebook থাকতেও ...</td>\n",
              "    </tr>\n",
              "    <tr>\n",
              "      <th>1</th>\n",
              "      <td>2</td>\n",
              "      <td>https://www.youtube.com/watch?v=2-ndr2h28jY</td>\n",
              "      <td>জীবনের যারা মুক্তি চাইতেছে আমি তারা বাইরে আসো ...</td>\n",
              "      <td>1</td>\n",
              "      <td>জীবনের যারা মুক্তি চাইতেছে আমি তারা বাইরে আসো ...</td>\n",
              "      <td>[জীবনের, যারা, মুক্তি, চাইতেছে, আমি, তারা, বাই...</td>\n",
              "      <td>[জীবনের, মুক্তি, চাইতেছে, বাইরে, আসো, কথাবার্ত...</td>\n",
              "      <td>জীবনের মুক্তি চাইতেছে বাইরে আসো কথাবার্তা পরিম...</td>\n",
              "    </tr>\n",
              "    <tr>\n",
              "      <th>2</th>\n",
              "      <td>3</td>\n",
              "      <td>https://www.youtube.com/watch?v=88loU_FL5MM</td>\n",
              "      <td>আচ্ছা ও কি একদম পাগল হয়ে গেল নাকি? নির্লজ্জ ব...</td>\n",
              "      <td>1</td>\n",
              "      <td>আচ্ছা ও কি একদম পাগল হয়ে গেল নাকি নির্লজ্জ বে...</td>\n",
              "      <td>[আচ্ছা, ও, কি, একদম, পাগল, হয়ে, গেল, নাকি, নি...</td>\n",
              "      <td>[আচ্ছা, একদম, পাগল, নির্লজ্জ, বেহায়া, ছোটলোক,...</td>\n",
              "      <td>আচ্ছা একদম পাগল নির্লজ্জ বেহায়া ছোটলোক বাজদার...</td>\n",
              "    </tr>\n",
              "    <tr>\n",
              "      <th>3</th>\n",
              "      <td>4</td>\n",
              "      <td>https://www.youtube.com/watch?v=bMYKQydmWCE</td>\n",
              "      <td>আমাকে পরিমরি খান তুই গণভবনে শেখ হাসিনার জামা ক...</td>\n",
              "      <td>1</td>\n",
              "      <td>আমাকে পরিমরি খান তুই গণভবনে শেখ হাসিনার জামা ক...</td>\n",
              "      <td>[আমাকে, পরিমরি, খান, তুই, গণভবনে, শেখ, হাসিনার...</td>\n",
              "      <td>[পরিমরি, খান, তুই, গণভবনে, শেখ, হাসিনার, জামা,...</td>\n",
              "      <td>পরিমরি খান তুই গণভবনে শেখ হাসিনার জামা কাপড় ধ...</td>\n",
              "    </tr>\n",
              "    <tr>\n",
              "      <th>4</th>\n",
              "      <td>5</td>\n",
              "      <td>https://www.youtube.com/watch?v=E_EQzQf2TLY</td>\n",
              "      <td>এ সেফাতুল্লার কারে শালা তুই বেয়াই বেয়াই কর, ...</td>\n",
              "      <td>1</td>\n",
              "      <td>এ সেফাতুল্লার কারে শালা তুই বেয়াই বেয়াই কর ত...</td>\n",
              "      <td>[এ, সেফাতুল্লার, কারে, শালা, তুই, বেয়াই, বেয়...</td>\n",
              "      <td>[সেফাতুল্লার, কারে, শালা, তুই, বেয়াই, বেয়াই,...</td>\n",
              "      <td>সেফাতুল্লার কারে শালা তুই বেয়াই বেয়াই কর তুই...</td>\n",
              "    </tr>\n",
              "  </tbody>\n",
              "</table>\n",
              "</div>"
            ],
            "text/plain": [
              "   Serial  ...                                           sentence\n",
              "0       1  ...  রাত BNP রা গালাগালি দেতাসে এক Facebook থাকতেও ...\n",
              "1       2  ...  জীবনের মুক্তি চাইতেছে বাইরে আসো কথাবার্তা পরিম...\n",
              "2       3  ...  আচ্ছা একদম পাগল নির্লজ্জ বেহায়া ছোটলোক বাজদার...\n",
              "3       4  ...  পরিমরি খান তুই গণভবনে শেখ হাসিনার জামা কাপড় ধ...\n",
              "4       5  ...  সেফাতুল্লার কারে শালা তুই বেয়াই বেয়াই কর তুই...\n",
              "\n",
              "[5 rows x 8 columns]"
            ]
          },
          "metadata": {},
          "execution_count": 44
        }
      ]
    },
    {
      "cell_type": "code",
      "metadata": {
        "colab": {
          "base_uri": "https://localhost:8080/"
        },
        "id": "SfR5KliJCkzx",
        "outputId": "eb574bca-468a-437f-970c-44790153b746"
      },
      "source": [
        "df['Label'].value_counts()"
      ],
      "execution_count": null,
      "outputs": [
        {
          "output_type": "execute_result",
          "data": {
            "text/plain": [
              "0    99\n",
              "1    93\n",
              "Name: Label, dtype: int64"
            ]
          },
          "metadata": {},
          "execution_count": 45
        }
      ]
    },
    {
      "cell_type": "markdown",
      "metadata": {
        "id": "Ohi0vAjnMT4a"
      },
      "source": [
        "##text to sequence"
      ]
    },
    {
      "cell_type": "code",
      "metadata": {
        "id": "KQOh-R7wIhp6"
      },
      "source": [
        "from sklearn.model_selection import train_test_split\n",
        "x_train,x_test,y_train,y_test=train_test_split(df['Speech'].values,df['Label'].values,test_size=0.30)"
      ],
      "execution_count": null,
      "outputs": []
    },
    {
      "cell_type": "code",
      "metadata": {
        "colab": {
          "base_uri": "https://localhost:8080/"
        },
        "id": "zLvgc4SCJM9Z",
        "outputId": "87abe306-9ed4-4f7c-f12d-ccffb764a22b"
      },
      "source": [
        "print('speech:',x_train[0])\n",
        "print('hate or good:',y_train[0])"
      ],
      "execution_count": null,
      "outputs": [
        {
          "output_type": "stream",
          "name": "stdout",
          "text": [
            "speech: কি বলছো? হুম? তোর আম্মু কে? আমার আম্মুকে তোমার কি আছে? দেখি তোমার ঐটা আছে? আমার আব্বু যেইটা আছে তাহলে তাহলে যে বলো সব ভিডিও করছে তাহলে? তাহলে বলছ কেন? যেটা পারবা না সেটা কেন? তুমি বল আমার মায়ের চুলসিড়া দিবা, এটা পারতে পারো, কিন্তু এইসব কি? আংলা লাগানো যায়, আগলা লাগা. কোন নলেজ আছে তুই লাগাস? ও then then mode সোনাই সোনাই সোনাই অর্ণব তুমি হিরো তুমি. ইমন, নিরব. ইমন. এই ছুত মার, আমি ইমন আমার boyfriend না. একদম লাইকি\n",
            "hate or good: 1\n"
          ]
        }
      ]
    },
    {
      "cell_type": "code",
      "metadata": {
        "id": "DmpMuOyJKDcw"
      },
      "source": [
        "from tensorflow.keras.preprocessing.text import Tokenizer\n",
        "from tensorflow.keras.preprocessing.sequence import pad_sequences\n",
        "\n",
        "max_vocab=20000\n",
        "tokenizer=Tokenizer(num_words=max_vocab)\n",
        "tokenizer.fit_on_texts(x_train)"
      ],
      "execution_count": null,
      "outputs": []
    },
    {
      "cell_type": "code",
      "metadata": {
        "colab": {
          "base_uri": "https://localhost:8080/"
        },
        "id": "W4slDPlIKlSo",
        "outputId": "f5723316-657f-4453-e5de-04e14080dea8"
      },
      "source": [
        "wordinx=tokenizer.word_index\n",
        "v=len(wordinx)\n",
        "print('The size of dataset vocab is:',v)"
      ],
      "execution_count": null,
      "outputs": [
        {
          "output_type": "stream",
          "name": "stdout",
          "text": [
            "The size of dataset vocab is: 7832\n"
          ]
        }
      ]
    },
    {
      "cell_type": "code",
      "metadata": {
        "colab": {
          "base_uri": "https://localhost:8080/"
        },
        "id": "btoJV3FRK4Bp",
        "outputId": "53f7d989-eafd-4d04-9371-737612dbd251"
      },
      "source": [
        "train_seq =tokenizer.texts_to_sequences(x_train)\n",
        "test_seq=tokenizer.texts_to_sequences(x_test)\n",
        "print('training sequence:',train_seq[0])\n",
        "print('testing sequence:',test_seq[0])"
      ],
      "execution_count": null,
      "outputs": [
        {
          "output_type": "stream",
          "name": "stdout",
          "text": [
            "training sequence: [6, 2029, 165, 11, 1440, 73, 5, 3222, 94, 6, 16, 190, 94, 3223, 16, 5, 3224, 3225, 16, 62, 62, 9, 532, 63, 203, 111, 62, 62, 1441, 88, 390, 3226, 1, 137, 88, 57, 271, 5, 315, 3227, 3228, 41, 3229, 533, 23, 352, 6, 3230, 3231, 42, 3232, 2030, 59, 3233, 16, 13, 3234, 14, 1442, 1442, 3235, 1097, 1097, 1097, 3236, 57, 3237, 57, 1443, 3238, 1443, 2, 3239, 353, 4, 1443, 5, 3240, 1, 204, 3241]\n",
            "testing sequence: [1580, 131, 5, 567, 4, 991, 4, 6093, 8, 129, 139, 1580, 131, 4, 8, 326, 1045, 332, 677, 2416, 25, 326, 991, 9, 736, 88, 225, 1524, 233, 57, 671, 671, 225, 244, 103, 369, 19, 56, 5, 90, 34]\n"
          ]
        }
      ]
    },
    {
      "cell_type": "code",
      "metadata": {
        "colab": {
          "base_uri": "https://localhost:8080/"
        },
        "id": "AzsyBwR1Lc_g",
        "outputId": "a40fea21-194e-444c-c171-ab6760c46324"
      },
      "source": [
        "pad_train =pad_sequences(train_seq)\n",
        "T=pad_train.shape[1]\n",
        "print(\"The length of the trainging sequence is :\",pad_train.shape[1])"
      ],
      "execution_count": null,
      "outputs": [
        {
          "output_type": "stream",
          "name": "stdout",
          "text": [
            "The length of the trainging sequence is : 599\n"
          ]
        }
      ]
    },
    {
      "cell_type": "code",
      "metadata": {
        "colab": {
          "base_uri": "https://localhost:8080/"
        },
        "id": "OGfXO9cOMVeo",
        "outputId": "29333546-f89c-4437-da37-adfe0dc52ce2"
      },
      "source": [
        "pad_test =pad_sequences(test_seq,maxlen=T)\n",
        "print(\"The length of testing sequence is \",pad_test.shape[1])"
      ],
      "execution_count": null,
      "outputs": [
        {
          "output_type": "stream",
          "name": "stdout",
          "text": [
            "The length of testing sequence is  599\n"
          ]
        }
      ]
    },
    {
      "cell_type": "markdown",
      "metadata": {
        "id": "GFx5ib3HMdFj"
      },
      "source": [
        "##Deep LearninG techniques ( Pretrained Model(LSTM, GRU))"
      ]
    },
    {
      "cell_type": "markdown",
      "metadata": {
        "id": "rplspjRDMsgh"
      },
      "source": [
        "**LSTM**"
      ]
    },
    {
      "cell_type": "code",
      "metadata": {
        "id": "he62xaaTMoAR"
      },
      "source": [
        "from tensorflow.keras.layers import Input,Dense,Embedding,LSTM,GlobalMaxPool1D\n",
        "from tensorflow.keras.models import Model\n",
        "D=20\n",
        "M=15\n",
        "\n",
        "i= Input(shape=(T, ))\n",
        "x=Embedding(v+1,D)(i)\n",
        "x=LSTM(M,return_sequences=True)(x)\n",
        "x=GlobalMaxPool1D()(x)\n",
        "x=Dense(32,activation='relu')(x)\n",
        "x=Dense(1,activation='sigmoid')(x)\n",
        "model=Model(i,x)"
      ],
      "execution_count": null,
      "outputs": []
    },
    {
      "cell_type": "code",
      "metadata": {
        "id": "wv0ZApjtOcbn",
        "colab": {
          "base_uri": "https://localhost:8080/"
        },
        "outputId": "a610d3f9-bae5-4693-e36e-3aed47d1d146"
      },
      "source": [
        "model.compile(optimizer='adam',loss='binary_crossentropy',metrics='accuracy')\n",
        "model.summary()"
      ],
      "execution_count": null,
      "outputs": [
        {
          "output_type": "stream",
          "name": "stdout",
          "text": [
            "Model: \"model_1\"\n",
            "_________________________________________________________________\n",
            "Layer (type)                 Output Shape              Param #   \n",
            "=================================================================\n",
            "input_2 (InputLayer)         [(None, 599)]             0         \n",
            "_________________________________________________________________\n",
            "embedding_1 (Embedding)      (None, 599, 20)           156660    \n",
            "_________________________________________________________________\n",
            "lstm_1 (LSTM)                (None, 599, 15)           2160      \n",
            "_________________________________________________________________\n",
            "global_max_pooling1d_1 (Glob (None, 15)                0         \n",
            "_________________________________________________________________\n",
            "dense_2 (Dense)              (None, 32)                512       \n",
            "_________________________________________________________________\n",
            "dense_3 (Dense)              (None, 1)                 33        \n",
            "=================================================================\n",
            "Total params: 159,365\n",
            "Trainable params: 159,365\n",
            "Non-trainable params: 0\n",
            "_________________________________________________________________\n"
          ]
        }
      ]
    },
    {
      "cell_type": "code",
      "metadata": {
        "colab": {
          "base_uri": "https://localhost:8080/"
        },
        "id": "2EdkFxJQOug9",
        "outputId": "ed205865-bdb9-4071-a8a8-feaa818cf40a"
      },
      "source": [
        "r=model.fit(pad_train,y_train,validation_data=(pad_test,y_test),epochs=20)"
      ],
      "execution_count": null,
      "outputs": [
        {
          "output_type": "stream",
          "name": "stdout",
          "text": [
            "Epoch 1/20\n",
            "5/5 [==============================] - 4s 395ms/step - loss: 0.6933 - accuracy: 0.5373 - val_loss: 0.6936 - val_accuracy: 0.4655\n",
            "Epoch 2/20\n",
            "5/5 [==============================] - 1s 269ms/step - loss: 0.6894 - accuracy: 0.5373 - val_loss: 0.6927 - val_accuracy: 0.4655\n",
            "Epoch 3/20\n",
            "5/5 [==============================] - 1s 270ms/step - loss: 0.6861 - accuracy: 0.5373 - val_loss: 0.6921 - val_accuracy: 0.4655\n",
            "Epoch 4/20\n",
            "5/5 [==============================] - 1s 271ms/step - loss: 0.6823 - accuracy: 0.5373 - val_loss: 0.6916 - val_accuracy: 0.4655\n",
            "Epoch 5/20\n",
            "5/5 [==============================] - 1s 273ms/step - loss: 0.6773 - accuracy: 0.5373 - val_loss: 0.6903 - val_accuracy: 0.4655\n",
            "Epoch 6/20\n",
            "5/5 [==============================] - 1s 270ms/step - loss: 0.6713 - accuracy: 0.5373 - val_loss: 0.6882 - val_accuracy: 0.4655\n",
            "Epoch 7/20\n",
            "5/5 [==============================] - 1s 265ms/step - loss: 0.6630 - accuracy: 0.5373 - val_loss: 0.6852 - val_accuracy: 0.4655\n",
            "Epoch 8/20\n",
            "5/5 [==============================] - 1s 280ms/step - loss: 0.6524 - accuracy: 0.5373 - val_loss: 0.6818 - val_accuracy: 0.4655\n",
            "Epoch 9/20\n",
            "5/5 [==============================] - 1s 284ms/step - loss: 0.6382 - accuracy: 0.5448 - val_loss: 0.6760 - val_accuracy: 0.4655\n",
            "Epoch 10/20\n",
            "5/5 [==============================] - 1s 304ms/step - loss: 0.6188 - accuracy: 0.6493 - val_loss: 0.6671 - val_accuracy: 0.4655\n",
            "Epoch 11/20\n",
            "5/5 [==============================] - 1s 283ms/step - loss: 0.5926 - accuracy: 0.6493 - val_loss: 0.6487 - val_accuracy: 0.4655\n",
            "Epoch 12/20\n",
            "5/5 [==============================] - 1s 290ms/step - loss: 0.5344 - accuracy: 0.6791 - val_loss: 0.5881 - val_accuracy: 0.4655\n",
            "Epoch 13/20\n",
            "5/5 [==============================] - 1s 285ms/step - loss: 0.4428 - accuracy: 0.8582 - val_loss: 0.5097 - val_accuracy: 0.7586\n",
            "Epoch 14/20\n",
            "5/5 [==============================] - 1s 280ms/step - loss: 0.3956 - accuracy: 0.9925 - val_loss: 0.5114 - val_accuracy: 0.8276\n",
            "Epoch 15/20\n",
            "5/5 [==============================] - 1s 278ms/step - loss: 0.3871 - accuracy: 1.0000 - val_loss: 0.4954 - val_accuracy: 0.8621\n",
            "Epoch 16/20\n",
            "5/5 [==============================] - 1s 283ms/step - loss: 0.3482 - accuracy: 1.0000 - val_loss: 0.4407 - val_accuracy: 0.8276\n",
            "Epoch 17/20\n",
            "5/5 [==============================] - 1s 279ms/step - loss: 0.3231 - accuracy: 1.0000 - val_loss: 0.4109 - val_accuracy: 0.8793\n",
            "Epoch 18/20\n",
            "5/5 [==============================] - 1s 269ms/step - loss: 0.3069 - accuracy: 1.0000 - val_loss: 0.3915 - val_accuracy: 0.8966\n",
            "Epoch 19/20\n",
            "5/5 [==============================] - 1s 282ms/step - loss: 0.2937 - accuracy: 1.0000 - val_loss: 0.4092 - val_accuracy: 0.9138\n",
            "Epoch 20/20\n",
            "5/5 [==============================] - 1s 285ms/step - loss: 0.2818 - accuracy: 1.0000 - val_loss: 0.4025 - val_accuracy: 0.9138\n"
          ]
        }
      ]
    },
    {
      "cell_type": "code",
      "metadata": {
        "colab": {
          "base_uri": "https://localhost:8080/"
        },
        "id": "PS3WKzIfGiAy",
        "outputId": "a8dba01b-37db-4b5e-a753-7bbfa7d59354"
      },
      "source": [
        "loss,accuracy = model.evaluate(pad_test,y_test)\n",
        "print(\"loss:\",loss)\n",
        "print(\"Accuracy:\",accuracy)"
      ],
      "execution_count": null,
      "outputs": [
        {
          "output_type": "stream",
          "name": "stdout",
          "text": [
            "2/2 [==============================] - 0s 43ms/step - loss: 0.4025 - accuracy: 0.9138\n",
            "loss: 0.40249067544937134\n",
            "Accuracy: 0.9137930870056152\n"
          ]
        }
      ]
    },
    {
      "cell_type": "code",
      "metadata": {
        "colab": {
          "base_uri": "https://localhost:8080/"
        },
        "id": "9GMMBjdQPG5t",
        "outputId": "eb099fcc-e064-4db2-9341-cbf872903d78"
      },
      "source": [
        "from matplotlib import pyplot as plt\n",
        "plt.plot(r.history['loss'],label='loss')\n",
        "plt.plot(r.history['val_loss'],label='val_loss')\n",
        "plt.legend"
      ],
      "execution_count": null,
      "outputs": [
        {
          "output_type": "execute_result",
          "data": {
            "text/plain": [
              "<function matplotlib.pyplot.legend>"
            ]
          },
          "metadata": {},
          "execution_count": 57
        },
        {
          "output_type": "display_data",
          "data": {
            "image/png": "[encoded data removed]",
            "text/plain": [
              "<Figure size 432x288 with 1 Axes>"
            ]
          },
          "metadata": {
            "needs_background": "light"
          }
        }
      ]
    },
    {
      "cell_type": "markdown",
      "metadata": {
        "id": "dmQlvZ4ZT_Km"
      },
      "source": [
        "**GRU**"
      ]
    },
    {
      "cell_type": "code",
      "metadata": {
        "id": "jOQWCnz5UCkm",
        "colab": {
          "base_uri": "https://localhost:8080/"
        },
        "outputId": "1787c5cb-f585-4b2a-c5ed-829f8dc8d572"
      },
      "source": [
        "from tensorflow.keras.layers import Input,Dense,Embedding,GRU,GlobalMaxPool1D\n",
        "from tensorflow.keras.models import Model\n",
        "D=20\n",
        "M=15\n",
        "\n",
        "i= Input(shape=(T, ))\n",
        "x=Embedding(v+1,D)(i)\n",
        "x=GRU(M,return_sequences=True)(x)\n",
        "x=GlobalMaxPool1D()(x)\n",
        "x=Dense(32,activation='relu')(x)\n",
        "x=Dense(1,activation='sigmoid')(x)\n",
        "gru_model=Model(i,x)\n",
        "gru_model.summary()"
      ],
      "execution_count": null,
      "outputs": [
        {
          "output_type": "stream",
          "name": "stdout",
          "text": [
            "Model: \"model_2\"\n",
            "_________________________________________________________________\n",
            "Layer (type)                 Output Shape              Param #   \n",
            "=================================================================\n",
            "input_3 (InputLayer)         [(None, 599)]             0         \n",
            "_________________________________________________________________\n",
            "embedding_2 (Embedding)      (None, 599, 20)           156660    \n",
            "_________________________________________________________________\n",
            "gru (GRU)                    (None, 599, 15)           1665      \n",
            "_________________________________________________________________\n",
            "global_max_pooling1d_2 (Glob (None, 15)                0         \n",
            "_________________________________________________________________\n",
            "dense_4 (Dense)              (None, 32)                512       \n",
            "_________________________________________________________________\n",
            "dense_5 (Dense)              (None, 1)                 33        \n",
            "=================================================================\n",
            "Total params: 158,870\n",
            "Trainable params: 158,870\n",
            "Non-trainable params: 0\n",
            "_________________________________________________________________\n"
          ]
        }
      ]
    },
    {
      "cell_type": "code",
      "metadata": {
        "colab": {
          "base_uri": "https://localhost:8080/"
        },
        "id": "TcxzVmqyT7dX",
        "outputId": "3e057509-82dc-4fde-b1ca-f88b3c9662bf"
      },
      "source": [
        "gru_model.compile(optimizer='adam',loss='binary_crossentropy',metrics='accuracy')\n",
        "r=gru_model.fit(pad_train,y_train,validation_data=(pad_test,y_test),epochs=20)"
      ],
      "execution_count": null,
      "outputs": [
        {
          "output_type": "stream",
          "name": "stdout",
          "text": [
            "Epoch 1/20\n",
            "5/5 [==============================] - 5s 528ms/step - loss: 0.6915 - accuracy: 0.5373 - val_loss: 0.6939 - val_accuracy: 0.4655\n",
            "Epoch 2/20\n",
            "5/5 [==============================] - 1s 283ms/step - loss: 0.6848 - accuracy: 0.5373 - val_loss: 0.6902 - val_accuracy: 0.4655\n",
            "Epoch 3/20\n",
            "5/5 [==============================] - 1s 291ms/step - loss: 0.6787 - accuracy: 0.5373 - val_loss: 0.6875 - val_accuracy: 0.4655\n",
            "Epoch 4/20\n",
            "5/5 [==============================] - 1s 295ms/step - loss: 0.6719 - accuracy: 0.5373 - val_loss: 0.6849 - val_accuracy: 0.4655\n",
            "Epoch 5/20\n",
            "5/5 [==============================] - 1s 288ms/step - loss: 0.6633 - accuracy: 0.5373 - val_loss: 0.6805 - val_accuracy: 0.4655\n",
            "Epoch 6/20\n",
            "5/5 [==============================] - 1s 286ms/step - loss: 0.6526 - accuracy: 0.5896 - val_loss: 0.6747 - val_accuracy: 0.4828\n",
            "Epoch 7/20\n",
            "5/5 [==============================] - 1s 296ms/step - loss: 0.6399 - accuracy: 0.8806 - val_loss: 0.6686 - val_accuracy: 0.5172\n",
            "Epoch 8/20\n",
            "5/5 [==============================] - 1s 296ms/step - loss: 0.6252 - accuracy: 0.9403 - val_loss: 0.6616 - val_accuracy: 0.5345\n",
            "Epoch 9/20\n",
            "5/5 [==============================] - 1s 295ms/step - loss: 0.6069 - accuracy: 0.9701 - val_loss: 0.6523 - val_accuracy: 0.6379\n",
            "Epoch 10/20\n",
            "5/5 [==============================] - 1s 301ms/step - loss: 0.5853 - accuracy: 0.9776 - val_loss: 0.6411 - val_accuracy: 0.6897\n",
            "Epoch 11/20\n",
            "5/5 [==============================] - 2s 302ms/step - loss: 0.5606 - accuracy: 0.9776 - val_loss: 0.6284 - val_accuracy: 0.7069\n",
            "Epoch 12/20\n",
            "5/5 [==============================] - 1s 296ms/step - loss: 0.5316 - accuracy: 1.0000 - val_loss: 0.6113 - val_accuracy: 0.7414\n",
            "Epoch 13/20\n",
            "5/5 [==============================] - 1s 301ms/step - loss: 0.4975 - accuracy: 1.0000 - val_loss: 0.5921 - val_accuracy: 0.8276\n",
            "Epoch 14/20\n",
            "5/5 [==============================] - 1s 296ms/step - loss: 0.4591 - accuracy: 1.0000 - val_loss: 0.5691 - val_accuracy: 0.8793\n",
            "Epoch 15/20\n",
            "5/5 [==============================] - 1s 273ms/step - loss: 0.4169 - accuracy: 1.0000 - val_loss: 0.5444 - val_accuracy: 0.8621\n",
            "Epoch 16/20\n",
            "5/5 [==============================] - 2s 319ms/step - loss: 0.3707 - accuracy: 1.0000 - val_loss: 0.5188 - val_accuracy: 0.8621\n",
            "Epoch 17/20\n",
            "5/5 [==============================] - 2s 310ms/step - loss: 0.3219 - accuracy: 1.0000 - val_loss: 0.4815 - val_accuracy: 0.9138\n",
            "Epoch 18/20\n",
            "5/5 [==============================] - 1s 298ms/step - loss: 0.2692 - accuracy: 1.0000 - val_loss: 0.4379 - val_accuracy: 0.9655\n",
            "Epoch 19/20\n",
            "5/5 [==============================] - 2s 307ms/step - loss: 0.2158 - accuracy: 1.0000 - val_loss: 0.3889 - val_accuracy: 0.9655\n",
            "Epoch 20/20\n",
            "5/5 [==============================] - 2s 339ms/step - loss: 0.1638 - accuracy: 1.0000 - val_loss: 0.3283 - val_accuracy: 0.9828\n"
          ]
        }
      ]
    },
    {
      "cell_type": "code",
      "metadata": {
        "id": "banvSdJzRsiG"
      },
      "source": [
        "model.save('GRU.h5')"
      ],
      "execution_count": null,
      "outputs": []
    },
    {
      "cell_type": "code",
      "metadata": {
        "id": "-bk74KMhVUfA",
        "colab": {
          "base_uri": "https://localhost:8080/"
        },
        "outputId": "27563693-0837-4e22-bd39-8d407f168112"
      },
      "source": [
        "from matplotlib import pyplot as plt\n",
        "plt.plot(r.history['loss'],label='loss')\n",
        "plt.plot(r.history['val_loss'],label='val_loss')\n",
        "plt.legend"
      ],
      "execution_count": null,
      "outputs": [
        {
          "output_type": "execute_result",
          "data": {
            "text/plain": [
              "<function matplotlib.pyplot.legend>"
            ]
          },
          "metadata": {},
          "execution_count": 61
        },
        {
          "output_type": "display_data",
          "data": {
            "image/png": "[encoded data removed]",
            "text/plain": [
              "<Figure size 432x288 with 1 Axes>"
            ]
          },
          "metadata": {
            "needs_background": "light"
          }
        }
      ]
    },
    {
      "cell_type": "markdown",
      "metadata": {
        "id": "636cfuB-iV1i"
      },
      "source": [
        "##ROC Curve"
      ]
    },
    {
      "cell_type": "markdown",
      "metadata": {
        "id": "44NUt5NViuU6"
      },
      "source": [
        "**GRU**"
      ]
    },
    {
      "cell_type": "code",
      "metadata": {
        "colab": {
          "base_uri": "https://localhost:8080/"
        },
        "id": "IPl12ZJWiU4N",
        "outputId": "0677420f-248d-4da7-a8a3-03c51930aae6"
      },
      "source": [
        "    predictions = gru_model.predict(pad_test).ravel()\n",
        "    fpr_keras, tpr_keras, thresholds_keras = metrics.roc_curve(y_test, predictions)\n",
        "    auc_keras = metrics.auc(fpr_keras, tpr_keras)\n",
        "    \n",
        "    plt.figure(1)\n",
        "    plt.plot(fpr_keras, tpr_keras, 'b', label = 'AUC = %0.2f' % auc_keras)\n",
        "    plt.legend(loc = 'lower right')\n",
        "    plt.plot([0, 1], [0, 1], 'r--')\n",
        "    plt.xlim([0, 1])\n",
        "    plt.ylim([0, 1])\n",
        "    plt.xlabel('False positive rate')\n",
        "    plt.ylabel('True positive rate')\n",
        "    plt.title('ROC Curve for GRU ')\n",
        "    plt.show()"
      ],
      "execution_count": null,
      "outputs": [
        {
          "output_type": "display_data",
          "data": {
            "image/png": "[encoded data removed]",
            "text/plain": [
              "<Figure size 432x288 with 1 Axes>"
            ]
          },
          "metadata": {
            "needs_background": "light"
          }
        }
      ]
    },
    {
      "cell_type": "markdown",
      "metadata": {
        "id": "YufugtEBi4yK"
      },
      "source": [
        "**LSTM**"
      ]
    },
    {
      "cell_type": "code",
      "metadata": {
        "colab": {
          "base_uri": "https://localhost:8080/"
        },
        "id": "GoEX58LOhdjX",
        "outputId": "3b11da3c-91c8-4cb8-9f3b-d97d7822c1d5"
      },
      "source": [
        "    predictions = model.predict(pad_test).ravel()\n",
        "    fpr_keras, tpr_keras, thresholds_keras = metrics.roc_curve(y_test, predictions)\n",
        "    auc_keras = metrics.auc(fpr_keras, tpr_keras)\n",
        "    \n",
        "    plt.figure(1)\n",
        "    plt.plot(fpr_keras, tpr_keras, 'b', label = 'AUC = %0.2f' % auc_keras)\n",
        "    plt.legend(loc = 'lower right')\n",
        "    plt.plot([0, 1], [0, 1], 'r--')\n",
        "    plt.xlim([0, 1])\n",
        "    plt.ylim([0, 1])\n",
        "    plt.xlabel('False positive rate')\n",
        "    plt.ylabel('True positive rate')\n",
        "    plt.title('ROC Curve for LSTM ')\n",
        "    plt.show()"
      ],
      "execution_count": null,
      "outputs": [
        {
          "output_type": "display_data",
          "data": {
            "image/png": "[encoded data removed]",
            "text/plain": [
              "<Figure size 432x288 with 1 Axes>"
            ]
          },
          "metadata": {
            "needs_background": "light"
          }
        }
      ]
    }
  ]
}