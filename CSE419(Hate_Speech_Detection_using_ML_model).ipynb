{
  "nbformat": 4,
  "nbformat_minor": 0,
  "metadata": {
    "colab": {
      "name": "CSE419(Hate Speech Detection using ML model).ipynb",
      "provenance": [],
      "collapsed_sections": [],
      "include_colab_link": true
    },
    "kernelspec": {
      "name": "python3",
      "display_name": "Python 3"
    },
    "language_info": {
      "name": "python"
    }
  },
  "cells": [
    {
      "cell_type": "markdown",
      "metadata": {
        "id": "view-in-github",
        "colab_type": "text"
      },
      "source": [
        "<a href=\"https://colab.research.google.com/github/MohdIstiaqHossainJunaid/Bangla-Hate-Speech-Detection-In-videos/blob/main/CSE419(Hate_Speech_Detection_using_ML_model).ipynb\" target=\"_parent\"><img src=\"https://colab.research.google.com/assets/colab-badge.svg\" alt=\"Open In Colab\"/></a>"
      ]
    },
    {
      "cell_type": "markdown",
      "metadata": {
        "id": "CffaEjcaR_f4"
      },
      "source": [
        "## **Bangla Hate Speech Detection from videos**(Machine Learning Techniques)"
      ]
    },
    {
      "cell_type": "markdown",
      "metadata": {
        "id": "0hpJR3-MjXLf"
      },
      "source": [
        "# Group Number : 03\n",
        "     \n",
        "1.   Mohd Istiaq Hossain Junaid - 1821577642\n",
        "2.   Faisal Hossain             - 1821500042\n",
        "\n",
        "\n",
        "\n",
        "\n",
        "\n"
      ]
    },
    {
      "cell_type": "code",
      "metadata": {
        "id": "klwHZaw8SLba",
        "colab": {
          "base_uri": "https://localhost:8080/"
        },
        "outputId": "33cd7ef2-6702-4e1d-a441-fea46039b447"
      },
      "source": [
        "from google.colab import drive\n",
        "drive.mount('/content/drive')"
      ],
      "execution_count": null,
      "outputs": [
        {
          "output_type": "stream",
          "name": "stdout",
          "text": [
            "Mounted at /content/drive\n"
          ]
        }
      ]
    },
    {
      "cell_type": "code",
      "metadata": {
        "id": "CILvaZG4hzRd",
        "colab": {
          "base_uri": "https://localhost:8080/",
          "height": 84
        },
        "outputId": "243703f2-30bb-4df2-a79e-4d8ef6462865"
      },
      "source": [
        "import string \n",
        "import cufflinks as cf\n",
        "import seaborn as sns\n",
        "from plotly.offline import download_plotlyjs,init_notebook_mode,plot,iplot\n",
        "%matplotlib inline\n",
        "init_notebook_mode(connected=True)\n",
        "cf.go_offline()\n",
        "import numpy as np\n",
        "import pandas as pd\n",
        "import matplotlib.pyplot as plt\n",
        "%matplotlib inline\n",
        "import re\n",
        "import nltk\n",
        "from nltk.stem import PorterStemmer\n",
        "from nltk.sentiment.vader import SentimentIntensityAnalyzer\n",
        "from sklearn.metrics import accuracy_score,classification_report,confusion_matrix\n",
        "from sklearn.feature_extraction.text import CountVectorizer\n",
        "from sklearn.feature_extraction.text import TfidfTransformer\n",
        "from sklearn.pipeline import Pipeline\n",
        "from sklearn.model_selection import train_test_split\n",
        "from sklearn.feature_extraction.text import TfidfVectorizer\n",
        "from sklearn.svm import LinearSVC\n",
        "from sklearn import metrics\n",
        "from sklearn.naive_bayes import MultinomialNB\n",
        "from sklearn.svm import SVC\n",
        "from sklearn import tree\n",
        "import warnings\n",
        "warnings.filterwarnings(\"ignore\")\n",
        "from os import path\n",
        "from PIL import Image\n",
        "from wordcloud import WordCloud, STOPWORDS, ImageColorGenerator"
      ],
      "execution_count": null,
      "outputs": [
        {
          "output_type": "display_data",
          "data": {
            "text/html": [
              "        <script type=\"text/javascript\">\n",
              "        window.PlotlyConfig = {MathJaxConfig: 'local'};\n",
              "        if (window.MathJax) {MathJax.Hub.Config({SVG: {font: \"STIX-Web\"}});}\n",
              "        if (typeof require !== 'undefined') {\n",
              "        require.undef(\"plotly\");\n",
              "        requirejs.config({\n",
              "            paths: {\n",
              "                'plotly': ['https://cdn.plot.ly/plotly-latest.min']\n",
              "            }\n",
              "        });\n",
              "        require(['plotly'], function(Plotly) {\n",
              "            window._Plotly = Plotly;\n",
              "        });\n",
              "        }\n",
              "        </script>\n",
              "        "
            ]
          },
          "metadata": {}
        },
        {
          "output_type": "display_data",
          "data": {
            "text/html": [
              "        <script type=\"text/javascript\">\n",
              "        window.PlotlyConfig = {MathJaxConfig: 'local'};\n",
              "        if (window.MathJax) {MathJax.Hub.Config({SVG: {font: \"STIX-Web\"}});}\n",
              "        if (typeof require !== 'undefined') {\n",
              "        require.undef(\"plotly\");\n",
              "        requirejs.config({\n",
              "            paths: {\n",
              "                'plotly': ['https://cdn.plot.ly/plotly-latest.min']\n",
              "            }\n",
              "        });\n",
              "        require(['plotly'], function(Plotly) {\n",
              "            window._Plotly = Plotly;\n",
              "        });\n",
              "        }\n",
              "        </script>\n",
              "        "
            ]
          },
          "metadata": {}
        },
        {
          "output_type": "stream",
          "name": "stderr",
          "text": [
            "/usr/local/lib/python3.7/dist-packages/nltk/twitter/__init__.py:20: UserWarning:\n",
            "\n",
            "The twython library has not been installed. Some functionality from the twitter package will not be available.\n",
            "\n"
          ]
        }
      ]
    },
    {
      "cell_type": "code",
      "metadata": {
        "id": "fQGXy5Y1fk_X",
        "colab": {
          "base_uri": "https://localhost:8080/",
          "height": 417
        },
        "outputId": "a3f4ad1c-985e-4a89-d630-ed4110e711e0"
      },
      "source": [
        "import pandas as pd\n",
        "import io\n",
        "df = pd.read_csv(\"vid.csv\")\n",
        "df.sample(frac=1)\n",
        "\n"
      ],
      "execution_count": null,
      "outputs": [
        {
          "output_type": "execute_result",
          "data": {
            "text/html": [
              "<div>\n",
              "<style scoped>\n",
              "    .dataframe tbody tr th:only-of-type {\n",
              "        vertical-align: middle;\n",
              "    }\n",
              "\n",
              "    .dataframe tbody tr th {\n",
              "        vertical-align: top;\n",
              "    }\n",
              "\n",
              "    .dataframe thead th {\n",
              "        text-align: right;\n",
              "    }\n",
              "</style>\n",
              "<table border=\"1\" class=\"dataframe\">\n",
              "  <thead>\n",
              "    <tr style=\"text-align: right;\">\n",
              "      <th></th>\n",
              "      <th>Serial</th>\n",
              "      <th>Youtube_ID</th>\n",
              "      <th>Speech</th>\n",
              "      <th>Label</th>\n",
              "    </tr>\n",
              "  </thead>\n",
              "  <tbody>\n",
              "    <tr>\n",
              "      <th>138</th>\n",
              "      <td>139</td>\n",
              "      <td>https://www.youtube.com/watch?v=JgP5LmTWRRg</td>\n",
              "      <td>জানতে যে আপনারা? আমাকে গালাগালি দিন, খিস্তি দি...</td>\n",
              "      <td>1</td>\n",
              "    </tr>\n",
              "    <tr>\n",
              "      <th>84</th>\n",
              "      <td>85</td>\n",
              "      <td>https://www.youtube.com/watch?v=uApmvqXTdV4</td>\n",
              "      <td>প্রায় দেড় বছর পর বারো September খুলছে শিক্ষা...</td>\n",
              "      <td>0</td>\n",
              "    </tr>\n",
              "    <tr>\n",
              "      <th>112</th>\n",
              "      <td>113</td>\n",
              "      <td>https://www.youtube.com/watch?v=GwXjuiZhmgQ</td>\n",
              "      <td>আমি চারবার কইরা দিমু আমার কুত্তা দিয়া দিমু ওই ...</td>\n",
              "      <td>1</td>\n",
              "    </tr>\n",
              "    <tr>\n",
              "      <th>92</th>\n",
              "      <td>93</td>\n",
              "      <td>https://www.youtube.com/watch?v=d0DMzMUu4EI</td>\n",
              "      <td>পি কে হালদারের দেশত্যাগের সময় বেনাপোল ইমিগ্রে...</td>\n",
              "      <td>0</td>\n",
              "    </tr>\n",
              "    <tr>\n",
              "      <th>27</th>\n",
              "      <td>28</td>\n",
              "      <td>https://www.youtube.com/watch?v=fALKprMyy3M&amp;ab...</td>\n",
              "      <td>বিশেষ হেলিকপ্টারটি তখন বাংলাদেশ মায়ানমার সীমা...</td>\n",
              "      <td>0</td>\n",
              "    </tr>\n",
              "    <tr>\n",
              "      <th>...</th>\n",
              "      <td>...</td>\n",
              "      <td>...</td>\n",
              "      <td>...</td>\n",
              "      <td>...</td>\n",
              "    </tr>\n",
              "    <tr>\n",
              "      <th>113</th>\n",
              "      <td>114</td>\n",
              "      <td>https://www.youtube.com/watch?v=3CW4M1YvwQs</td>\n",
              "      <td>প্রেম দা সকালে কি হয়েছিল আপনার? জঙ্গলে হারিয়...</td>\n",
              "      <td>1</td>\n",
              "    </tr>\n",
              "    <tr>\n",
              "      <th>68</th>\n",
              "      <td>69</td>\n",
              "      <td>https://www.youtube.com/watch?v=4iUOVbtUeds</td>\n",
              "      <td>বিয়ে করেছেন বাংলাদেশের ছোট পর্দার জনপ্রিয় অভ...</td>\n",
              "      <td>0</td>\n",
              "    </tr>\n",
              "    <tr>\n",
              "      <th>121</th>\n",
              "      <td>122</td>\n",
              "      <td>https://www.youtube.com/watch?v=YKuD3AWFV0s</td>\n",
              "      <td>ওই কোন কিরে? শালা, ঠিক করে গাড়ি চালাতে পারিস ...</td>\n",
              "      <td>1</td>\n",
              "    </tr>\n",
              "    <tr>\n",
              "      <th>72</th>\n",
              "      <td>73</td>\n",
              "      <td>https://www.youtube.com/watch?v=-HTlu0QcmRY</td>\n",
              "      <td>রোগীবাহী ট্রলি থেকে হাসপাতালের sit দালাল ছাড়া...</td>\n",
              "      <td>0</td>\n",
              "    </tr>\n",
              "    <tr>\n",
              "      <th>119</th>\n",
              "      <td>120</td>\n",
              "      <td>https://www.youtube.com/watch?v=uJswbrBSAR8</td>\n",
              "      <td>মা রে? মা গো? মা রে? মা রে? আমি বড়ো বল দাস আম...</td>\n",
              "      <td>1</td>\n",
              "    </tr>\n",
              "  </tbody>\n",
              "</table>\n",
              "<p>192 rows × 4 columns</p>\n",
              "</div>"
            ],
            "text/plain": [
              "     Serial  ... Label\n",
              "138     139  ...     1\n",
              "84       85  ...     0\n",
              "112     113  ...     1\n",
              "92       93  ...     0\n",
              "27       28  ...     0\n",
              "..      ...  ...   ...\n",
              "113     114  ...     1\n",
              "68       69  ...     0\n",
              "121     122  ...     1\n",
              "72       73  ...     0\n",
              "119     120  ...     1\n",
              "\n",
              "[192 rows x 4 columns]"
            ]
          },
          "metadata": {},
          "execution_count": 5
        }
      ]
    },
    {
      "cell_type": "markdown",
      "metadata": {
        "id": "OJLvi25mhzRk"
      },
      "source": [
        "## Removing punctuations"
      ]
    },
    {
      "cell_type": "code",
      "metadata": {
        "colab": {
          "base_uri": "https://localhost:8080/"
        },
        "id": "5KK2cP4zjSxa",
        "outputId": "641229d3-4c75-46cf-bde7-9211dbff3c2e"
      },
      "source": [
        "string.punctuation"
      ],
      "execution_count": null,
      "outputs": [
        {
          "output_type": "execute_result",
          "data": {
            "application/vnd.google.colaboratory.intrinsic+json": {
              "type": "string"
            },
            "text/plain": [
              "'!\"#$%&\\'()*+,-./:;<=>?@[\\\\]^_`{|}~'"
            ]
          },
          "metadata": {},
          "execution_count": 6
        }
      ]
    },
    {
      "cell_type": "code",
      "metadata": {
        "id": "Y90JjizYjY2K"
      },
      "source": [
        "def remove_punctuation(txt):\n",
        "    txt_nopunct = \"\".join([c for c in txt if c not in string.punctuation])\n",
        "    return txt_nopunct"
      ],
      "execution_count": null,
      "outputs": []
    },
    {
      "cell_type": "code",
      "metadata": {
        "id": "8lVZSr0shzRl",
        "colab": {
          "base_uri": "https://localhost:8080/"
        },
        "outputId": "53dd72cb-8890-4bed-e3d9-39d53751c22e"
      },
      "source": [
        "df['msg_clean'] = df['Speech'].apply(lambda x:remove_punctuation(x))\n",
        "df.head()"
      ],
      "execution_count": null,
      "outputs": [
        {
          "output_type": "execute_result",
          "data": {
            "text/html": [
              "<div>\n",
              "<style scoped>\n",
              "    .dataframe tbody tr th:only-of-type {\n",
              "        vertical-align: middle;\n",
              "    }\n",
              "\n",
              "    .dataframe tbody tr th {\n",
              "        vertical-align: top;\n",
              "    }\n",
              "\n",
              "    .dataframe thead th {\n",
              "        text-align: right;\n",
              "    }\n",
              "</style>\n",
              "<table border=\"1\" class=\"dataframe\">\n",
              "  <thead>\n",
              "    <tr style=\"text-align: right;\">\n",
              "      <th></th>\n",
              "      <th>Serial</th>\n",
              "      <th>Youtube_ID</th>\n",
              "      <th>Speech</th>\n",
              "      <th>Label</th>\n",
              "      <th>msg_clean</th>\n",
              "    </tr>\n",
              "  </thead>\n",
              "  <tbody>\n",
              "    <tr>\n",
              "      <th>0</th>\n",
              "      <td>1</td>\n",
              "      <td>https://www.youtube.com/watch?v=_IzHIQvdohs</td>\n",
              "      <td>এত রাত, BNP রা এখানে যে গালাগালি দেতাসে এক কিন...</td>\n",
              "      <td>1</td>\n",
              "      <td>এত রাত BNP রা এখানে যে গালাগালি দেতাসে এক কিন্...</td>\n",
              "    </tr>\n",
              "    <tr>\n",
              "      <th>1</th>\n",
              "      <td>2</td>\n",
              "      <td>https://www.youtube.com/watch?v=2-ndr2h28jY</td>\n",
              "      <td>জীবনের যারা মুক্তি চাইতেছে আমি তারা বাইরে আসো ...</td>\n",
              "      <td>1</td>\n",
              "      <td>জীবনের যারা মুক্তি চাইতেছে আমি তারা বাইরে আসো ...</td>\n",
              "    </tr>\n",
              "    <tr>\n",
              "      <th>2</th>\n",
              "      <td>3</td>\n",
              "      <td>https://www.youtube.com/watch?v=88loU_FL5MM</td>\n",
              "      <td>আচ্ছা ও কি একদম পাগল হয়ে গেল নাকি? নির্লজ্জ ব...</td>\n",
              "      <td>1</td>\n",
              "      <td>আচ্ছা ও কি একদম পাগল হয়ে গেল নাকি নির্লজ্জ বে...</td>\n",
              "    </tr>\n",
              "    <tr>\n",
              "      <th>3</th>\n",
              "      <td>4</td>\n",
              "      <td>https://www.youtube.com/watch?v=bMYKQydmWCE</td>\n",
              "      <td>আমাকে পরিমরি খান তুই গণভবনে শেখ হাসিনার জামা ক...</td>\n",
              "      <td>1</td>\n",
              "      <td>আমাকে পরিমরি খান তুই গণভবনে শেখ হাসিনার জামা ক...</td>\n",
              "    </tr>\n",
              "    <tr>\n",
              "      <th>4</th>\n",
              "      <td>5</td>\n",
              "      <td>https://www.youtube.com/watch?v=E_EQzQf2TLY</td>\n",
              "      <td>এ সেফাতুল্লার কারে শালা তুই বেয়াই বেয়াই কর, ...</td>\n",
              "      <td>1</td>\n",
              "      <td>এ সেফাতুল্লার কারে শালা তুই বেয়াই বেয়াই কর ত...</td>\n",
              "    </tr>\n",
              "  </tbody>\n",
              "</table>\n",
              "</div>"
            ],
            "text/plain": [
              "   Serial  ...                                          msg_clean\n",
              "0       1  ...  এত রাত BNP রা এখানে যে গালাগালি দেতাসে এক কিন্...\n",
              "1       2  ...  জীবনের যারা মুক্তি চাইতেছে আমি তারা বাইরে আসো ...\n",
              "2       3  ...  আচ্ছা ও কি একদম পাগল হয়ে গেল নাকি নির্লজ্জ বে...\n",
              "3       4  ...  আমাকে পরিমরি খান তুই গণভবনে শেখ হাসিনার জামা ক...\n",
              "4       5  ...  এ সেফাতুল্লার কারে শালা তুই বেয়াই বেয়াই কর ত...\n",
              "\n",
              "[5 rows x 5 columns]"
            ]
          },
          "metadata": {},
          "execution_count": 8
        }
      ]
    },
    {
      "cell_type": "code",
      "metadata": {
        "colab": {
          "base_uri": "https://localhost:8080/"
        },
        "id": "JqTVsloYklpe",
        "outputId": "4f6321c4-1c8f-4be8-e29d-e99563a07c36"
      },
      "source": [
        "pip install bnlp_toolkit\n"
      ],
      "execution_count": null,
      "outputs": [
        {
          "output_type": "stream",
          "name": "stdout",
          "text": [
            "Collecting bnlp_toolkit\n",
            "  Downloading bnlp_toolkit-3.1.2-py3-none-any.whl (17 kB)\n",
            "Collecting gensim==4.0.1\n",
            "  Downloading gensim-4.0.1-cp37-cp37m-manylinux1_x86_64.whl (23.9 MB)\n",
            "\u001b[K     |████████████████████████████████| 23.9 MB 95 kB/s \n",
            "\u001b[?25hRequirement already satisfied: numpy in /usr/local/lib/python3.7/dist-packages (from bnlp_toolkit) (1.19.5)\n",
            "Requirement already satisfied: nltk in /usr/local/lib/python3.7/dist-packages (from bnlp_toolkit) (3.2.5)\n",
            "Requirement already satisfied: scipy in /usr/local/lib/python3.7/dist-packages (from bnlp_toolkit) (1.4.1)\n",
            "Collecting sentencepiece\n",
            "  Downloading sentencepiece-0.1.96-cp37-cp37m-manylinux_2_17_x86_64.manylinux2014_x86_64.whl (1.2 MB)\n",
            "\u001b[K     |████████████████████████████████| 1.2 MB 32.8 MB/s \n",
            "\u001b[?25hCollecting sklearn-crfsuite\n",
            "  Downloading sklearn_crfsuite-0.3.6-py2.py3-none-any.whl (12 kB)\n",
            "Requirement already satisfied: wasabi in /usr/local/lib/python3.7/dist-packages (from bnlp_toolkit) (0.8.2)\n",
            "Requirement already satisfied: smart-open>=1.8.1 in /usr/local/lib/python3.7/dist-packages (from gensim==4.0.1->bnlp_toolkit) (5.1.0)\n",
            "Requirement already satisfied: six in /usr/local/lib/python3.7/dist-packages (from nltk->bnlp_toolkit) (1.15.0)\n",
            "Collecting python-crfsuite>=0.8.3\n",
            "  Downloading python_crfsuite-0.9.7-cp37-cp37m-manylinux1_x86_64.whl (743 kB)\n",
            "\u001b[K     |████████████████████████████████| 743 kB 46.1 MB/s \n",
            "\u001b[?25hRequirement already satisfied: tqdm>=2.0 in /usr/local/lib/python3.7/dist-packages (from sklearn-crfsuite->bnlp_toolkit) (4.62.0)\n",
            "Requirement already satisfied: tabulate in /usr/local/lib/python3.7/dist-packages (from sklearn-crfsuite->bnlp_toolkit) (0.8.9)\n",
            "Installing collected packages: python-crfsuite, sklearn-crfsuite, sentencepiece, gensim, bnlp-toolkit\n",
            "  Attempting uninstall: gensim\n",
            "    Found existing installation: gensim 3.6.0\n",
            "    Uninstalling gensim-3.6.0:\n",
            "      Successfully uninstalled gensim-3.6.0\n",
            "Successfully installed bnlp-toolkit-3.1.2 gensim-4.0.1 python-crfsuite-0.9.7 sentencepiece-0.1.96 sklearn-crfsuite-0.3.6\n"
          ]
        }
      ]
    },
    {
      "cell_type": "markdown",
      "metadata": {
        "id": "GQhbyDfbsdxd"
      },
      "source": [
        "## **Bangla Tokenization and Bangla Stopword Removing**"
      ]
    },
    {
      "cell_type": "code",
      "metadata": {
        "id": "M0s-TQJsqa6a",
        "colab": {
          "base_uri": "https://localhost:8080/"
        },
        "outputId": "a4440c78-d288-4a40-a250-cce540d7d444"
      },
      "source": [
        "from bnlp import BasicTokenizer\n",
        "basic_tokenizer = BasicTokenizer()\n",
        "\n",
        "df['tokenized'] = df['msg_clean'].apply(lambda x: basic_tokenizer.tokenize(x))\n"
      ],
      "execution_count": null,
      "outputs": [
        {
          "output_type": "stream",
          "name": "stdout",
          "text": [
            "punkt not found. downloading...\n",
            "[nltk_data] Downloading package punkt to /root/nltk_data...\n",
            "[nltk_data]   Unzipping tokenizers/punkt.zip.\n"
          ]
        }
      ]
    },
    {
      "cell_type": "code",
      "metadata": {
        "colab": {
          "base_uri": "https://localhost:8080/",
          "height": 246
        },
        "id": "YXSZFasslWHm",
        "outputId": "d5a389c7-5978-4e5b-e96e-8d0aa96b2d46"
      },
      "source": [
        "import csv\n",
        "stop_words='/content/drive/MyDrive/Playing with Data/CSE419 (Hate Speech Detection From videos)/stopwords-bn.txt'\n",
        "text_data=[]\n",
        "with open(stop_words,'r',encoding='utf-8') as temp_output_file:\n",
        "    reader=csv.reader(temp_output_file, delimiter='\\n')\n",
        "    for row in reader:\n",
        "        text_data.append(row)\n",
        "stop_word_list=[x[0] for x in text_data]\n",
        "print(stop_word_list[0:100])\n",
        "print(type(stop_word_list))"
      ],
      "execution_count": null,
      "outputs": [
        {
          "output_type": "error",
          "ename": "FileNotFoundError",
          "evalue": "ignored",
          "traceback": [
            "\u001b[0;31m---------------------------------------------------------------------------\u001b[0m",
            "\u001b[0;31mFileNotFoundError\u001b[0m                         Traceback (most recent call last)",
            "\u001b[0;32m<ipython-input-11-839439110e4e>\u001b[0m in \u001b[0;36m<module>\u001b[0;34m()\u001b[0m\n\u001b[1;32m      2\u001b[0m \u001b[0mstop_words\u001b[0m\u001b[0;34m=\u001b[0m\u001b[0;34m'/content/drive/MyDrive/Playing with Data/CSE419 (Hate Speech Detection From videos)/stopwords-bn.txt'\u001b[0m\u001b[0;34m\u001b[0m\u001b[0;34m\u001b[0m\u001b[0m\n\u001b[1;32m      3\u001b[0m \u001b[0mtext_data\u001b[0m\u001b[0;34m=\u001b[0m\u001b[0;34m[\u001b[0m\u001b[0;34m]\u001b[0m\u001b[0;34m\u001b[0m\u001b[0;34m\u001b[0m\u001b[0m\n\u001b[0;32m----> 4\u001b[0;31m \u001b[0;32mwith\u001b[0m \u001b[0mopen\u001b[0m\u001b[0;34m(\u001b[0m\u001b[0mstop_words\u001b[0m\u001b[0;34m,\u001b[0m\u001b[0;34m'r'\u001b[0m\u001b[0;34m,\u001b[0m\u001b[0mencoding\u001b[0m\u001b[0;34m=\u001b[0m\u001b[0;34m'utf-8'\u001b[0m\u001b[0;34m)\u001b[0m \u001b[0;32mas\u001b[0m \u001b[0mtemp_output_file\u001b[0m\u001b[0;34m:\u001b[0m\u001b[0;34m\u001b[0m\u001b[0;34m\u001b[0m\u001b[0m\n\u001b[0m\u001b[1;32m      5\u001b[0m     \u001b[0mreader\u001b[0m\u001b[0;34m=\u001b[0m\u001b[0mcsv\u001b[0m\u001b[0;34m.\u001b[0m\u001b[0mreader\u001b[0m\u001b[0;34m(\u001b[0m\u001b[0mtemp_output_file\u001b[0m\u001b[0;34m,\u001b[0m \u001b[0mdelimiter\u001b[0m\u001b[0;34m=\u001b[0m\u001b[0;34m'\\n'\u001b[0m\u001b[0;34m)\u001b[0m\u001b[0;34m\u001b[0m\u001b[0;34m\u001b[0m\u001b[0m\n\u001b[1;32m      6\u001b[0m     \u001b[0;32mfor\u001b[0m \u001b[0mrow\u001b[0m \u001b[0;32min\u001b[0m \u001b[0mreader\u001b[0m\u001b[0;34m:\u001b[0m\u001b[0;34m\u001b[0m\u001b[0;34m\u001b[0m\u001b[0m\n",
            "\u001b[0;31mFileNotFoundError\u001b[0m: [Errno 2] No such file or directory: '/content/drive/MyDrive/Playing with Data/CSE419 (Hate Speech Detection From videos)/stopwords-bn.txt'"
          ]
        }
      ]
    },
    {
      "cell_type": "code",
      "metadata": {
        "colab": {
          "base_uri": "https://localhost:8080/",
          "height": 736
        },
        "id": "v1bthTQzG_NK",
        "outputId": "a71f1bca-172f-4a28-fb4e-c6f063f72f5b"
      },
      "source": [
        "from bnlp.corpus import stopwords\n",
        "from bnlp.corpus.util import remove_stopwords\n",
        "\n",
        "df['Removed Stopped word'] = df['msg_clean'].apply(lambda x: remove_stopwords(x,stopwords))\n",
        "df "
      ],
      "execution_count": null,
      "outputs": [
        {
          "output_type": "execute_result",
          "data": {
            "text/html": [
              "<div>\n",
              "<style scoped>\n",
              "    .dataframe tbody tr th:only-of-type {\n",
              "        vertical-align: middle;\n",
              "    }\n",
              "\n",
              "    .dataframe tbody tr th {\n",
              "        vertical-align: top;\n",
              "    }\n",
              "\n",
              "    .dataframe thead th {\n",
              "        text-align: right;\n",
              "    }\n",
              "</style>\n",
              "<table border=\"1\" class=\"dataframe\">\n",
              "  <thead>\n",
              "    <tr style=\"text-align: right;\">\n",
              "      <th></th>\n",
              "      <th>Serial</th>\n",
              "      <th>Youtube_ID</th>\n",
              "      <th>Speech</th>\n",
              "      <th>Label</th>\n",
              "      <th>msg_clean</th>\n",
              "      <th>tokenized</th>\n",
              "      <th>Removed Stopped word</th>\n",
              "    </tr>\n",
              "  </thead>\n",
              "  <tbody>\n",
              "    <tr>\n",
              "      <th>0</th>\n",
              "      <td>1</td>\n",
              "      <td>https://www.youtube.com/watch?v=_IzHIQvdohs</td>\n",
              "      <td>এত রাত, BNP রা এখানে যে গালাগালি দেতাসে এক কিন...</td>\n",
              "      <td>1</td>\n",
              "      <td>এত রাত BNP রা এখানে যে গালাগালি দেতাসে এক কিন্...</td>\n",
              "      <td>[এত, রাত, BNP, রা, এখানে, যে, গালাগালি, দেতাসে...</td>\n",
              "      <td>[রাত, BNP, রা, গালাগালি, দেতাসে, এক, Facebook,...</td>\n",
              "    </tr>\n",
              "    <tr>\n",
              "      <th>1</th>\n",
              "      <td>2</td>\n",
              "      <td>https://www.youtube.com/watch?v=2-ndr2h28jY</td>\n",
              "      <td>জীবনের যারা মুক্তি চাইতেছে আমি তারা বাইরে আসো ...</td>\n",
              "      <td>1</td>\n",
              "      <td>জীবনের যারা মুক্তি চাইতেছে আমি তারা বাইরে আসো ...</td>\n",
              "      <td>[জীবনের, যারা, মুক্তি, চাইতেছে, আমি, তারা, বাই...</td>\n",
              "      <td>[জীবনের, মুক্তি, চাইতেছে, বাইরে, আসো, কথাবার্ত...</td>\n",
              "    </tr>\n",
              "    <tr>\n",
              "      <th>2</th>\n",
              "      <td>3</td>\n",
              "      <td>https://www.youtube.com/watch?v=88loU_FL5MM</td>\n",
              "      <td>আচ্ছা ও কি একদম পাগল হয়ে গেল নাকি? নির্লজ্জ ব...</td>\n",
              "      <td>1</td>\n",
              "      <td>আচ্ছা ও কি একদম পাগল হয়ে গেল নাকি নির্লজ্জ বে...</td>\n",
              "      <td>[আচ্ছা, ও, কি, একদম, পাগল, হয়ে, গেল, নাকি, নি...</td>\n",
              "      <td>[আচ্ছা, একদম, পাগল, নির্লজ্জ, বেহায়া, ছোটলোক,...</td>\n",
              "    </tr>\n",
              "    <tr>\n",
              "      <th>3</th>\n",
              "      <td>4</td>\n",
              "      <td>https://www.youtube.com/watch?v=bMYKQydmWCE</td>\n",
              "      <td>আমাকে পরিমরি খান তুই গণভবনে শেখ হাসিনার জামা ক...</td>\n",
              "      <td>1</td>\n",
              "      <td>আমাকে পরিমরি খান তুই গণভবনে শেখ হাসিনার জামা ক...</td>\n",
              "      <td>[আমাকে, পরিমরি, খান, তুই, গণভবনে, শেখ, হাসিনার...</td>\n",
              "      <td>[পরিমরি, খান, তুই, গণভবনে, শেখ, হাসিনার, জামা,...</td>\n",
              "    </tr>\n",
              "    <tr>\n",
              "      <th>4</th>\n",
              "      <td>5</td>\n",
              "      <td>https://www.youtube.com/watch?v=E_EQzQf2TLY</td>\n",
              "      <td>এ সেফাতুল্লার কারে শালা তুই বেয়াই বেয়াই কর, ...</td>\n",
              "      <td>1</td>\n",
              "      <td>এ সেফাতুল্লার কারে শালা তুই বেয়াই বেয়াই কর ত...</td>\n",
              "      <td>[এ, সেফাতুল্লার, কারে, শালা, তুই, বেয়াই, বেয়...</td>\n",
              "      <td>[সেফাতুল্লার, কারে, শালা, তুই, বেয়াই, বেয়াই,...</td>\n",
              "    </tr>\n",
              "    <tr>\n",
              "      <th>...</th>\n",
              "      <td>...</td>\n",
              "      <td>...</td>\n",
              "      <td>...</td>\n",
              "      <td>...</td>\n",
              "      <td>...</td>\n",
              "      <td>...</td>\n",
              "      <td>...</td>\n",
              "    </tr>\n",
              "    <tr>\n",
              "      <th>187</th>\n",
              "      <td>188</td>\n",
              "      <td>https://www.youtube.com/watch?v=gYs1hny8j7s</td>\n",
              "      <td>কালকিনি উপজেলার ডাসার থানা পূর্ব বদলা গ্রামের ...</td>\n",
              "      <td>0</td>\n",
              "      <td>কালকিনি উপজেলার ডাসার থানা পূর্ব বদলা গ্রামের ...</td>\n",
              "      <td>[কালকিনি, উপজেলার, ডাসার, থানা, পূর্ব, বদলা, গ...</td>\n",
              "      <td>[কালকিনি, উপজেলার, ডাসার, থানা, পূর্ব, বদলা, গ...</td>\n",
              "    </tr>\n",
              "    <tr>\n",
              "      <th>188</th>\n",
              "      <td>189</td>\n",
              "      <td>https://www.youtube.com/watch?v=bwR3C_qIYyQ</td>\n",
              "      <td>হবিগঞ্জের বানিয়াচক উপজেলার জল মোহন নিয়ে কামা...</td>\n",
              "      <td>0</td>\n",
              "      <td>হবিগঞ্জের বানিয়াচক উপজেলার জল মোহন নিয়ে কামা...</td>\n",
              "      <td>[হবিগঞ্জের, বানিয়াচক, উপজেলার, জল, মোহন, নিয়...</td>\n",
              "      <td>[হবিগঞ্জের, বানিয়াচক, উপজেলার, জল, মোহন, কামা...</td>\n",
              "    </tr>\n",
              "    <tr>\n",
              "      <th>189</th>\n",
              "      <td>190</td>\n",
              "      <td>https://www.youtube.com/watch?v=KiP8gWUK83M</td>\n",
              "      <td>অব্যবস্থাপনা নিয়ে টিকা প্রত্যাশীদের এই ক্ষোভ....</td>\n",
              "      <td>0</td>\n",
              "      <td>অব্যবস্থাপনা নিয়ে টিকা প্রত্যাশীদের এই ক্ষোভ ...</td>\n",
              "      <td>[অব্যবস্থাপনা, নিয়ে, টিকা, প্রত্যাশীদের, এই, ...</td>\n",
              "      <td>[অব্যবস্থাপনা, টিকা, প্রত্যাশীদের, ক্ষোভ, ভোর,...</td>\n",
              "    </tr>\n",
              "    <tr>\n",
              "      <th>190</th>\n",
              "      <td>191</td>\n",
              "      <td>https://www.youtube.com/watch?v=NrIUfA6RZJk&amp;ab...</td>\n",
              "      <td>এই শিশু কিশোরদের আটক করা হয়েছে কক্সবাজার থেকে...</td>\n",
              "      <td>0</td>\n",
              "      <td>এই শিশু কিশোরদের আটক করা হয়েছে কক্সবাজার থেকে...</td>\n",
              "      <td>[এই, শিশু, কিশোরদের, আটক, করা, হয়েছে, কক্সবাজ...</td>\n",
              "      <td>[শিশু, কিশোরদের, আটক, কক্সবাজার, চট্টগ্রাম, আস...</td>\n",
              "    </tr>\n",
              "    <tr>\n",
              "      <th>191</th>\n",
              "      <td>192</td>\n",
              "      <td>https://www.youtube.com/watch?v=mx4lxr5jSg0&amp;ab...</td>\n",
              "      <td>বোকা চোদা ,বোকা, চো চো চো দা দা দা দা</td>\n",
              "      <td>1</td>\n",
              "      <td>বোকা চোদা বোকা চো চো চো দা দা দা দা</td>\n",
              "      <td>[বোকা, চোদা, বোকা, চো, চো, চো, দা, দা, দা, দা]</td>\n",
              "      <td>[বোকা, চোদা, বোকা, চো, চো, চো, দা, দা, দা, দা]</td>\n",
              "    </tr>\n",
              "  </tbody>\n",
              "</table>\n",
              "<p>192 rows × 7 columns</p>\n",
              "</div>"
            ],
            "text/plain": [
              "     Serial  ...                               Removed Stopped word\n",
              "0         1  ...  [রাত, BNP, রা, গালাগালি, দেতাসে, এক, Facebook,...\n",
              "1         2  ...  [জীবনের, মুক্তি, চাইতেছে, বাইরে, আসো, কথাবার্ত...\n",
              "2         3  ...  [আচ্ছা, একদম, পাগল, নির্লজ্জ, বেহায়া, ছোটলোক,...\n",
              "3         4  ...  [পরিমরি, খান, তুই, গণভবনে, শেখ, হাসিনার, জামা,...\n",
              "4         5  ...  [সেফাতুল্লার, কারে, শালা, তুই, বেয়াই, বেয়াই,...\n",
              "..      ...  ...                                                ...\n",
              "187     188  ...  [কালকিনি, উপজেলার, ডাসার, থানা, পূর্ব, বদলা, গ...\n",
              "188     189  ...  [হবিগঞ্জের, বানিয়াচক, উপজেলার, জল, মোহন, কামা...\n",
              "189     190  ...  [অব্যবস্থাপনা, টিকা, প্রত্যাশীদের, ক্ষোভ, ভোর,...\n",
              "190     191  ...  [শিশু, কিশোরদের, আটক, কক্সবাজার, চট্টগ্রাম, আস...\n",
              "191     192  ...     [বোকা, চোদা, বোকা, চো, চো, চো, দা, দা, দা, দা]\n",
              "\n",
              "[192 rows x 7 columns]"
            ]
          },
          "metadata": {},
          "execution_count": 12
        }
      ]
    },
    {
      "cell_type": "code",
      "metadata": {
        "colab": {
          "base_uri": "https://localhost:8080/",
          "height": 794
        },
        "id": "c36XgZb0BBnk",
        "outputId": "f2d647a8-d78c-40e0-cdca-e53ef349dbbe"
      },
      "source": [
        "df['sentence']=df['Removed Stopped word'].apply(' '.join)\n",
        "df.head(10)"
      ],
      "execution_count": null,
      "outputs": [
        {
          "output_type": "execute_result",
          "data": {
            "text/html": [
              "<div>\n",
              "<style scoped>\n",
              "    .dataframe tbody tr th:only-of-type {\n",
              "        vertical-align: middle;\n",
              "    }\n",
              "\n",
              "    .dataframe tbody tr th {\n",
              "        vertical-align: top;\n",
              "    }\n",
              "\n",
              "    .dataframe thead th {\n",
              "        text-align: right;\n",
              "    }\n",
              "</style>\n",
              "<table border=\"1\" class=\"dataframe\">\n",
              "  <thead>\n",
              "    <tr style=\"text-align: right;\">\n",
              "      <th></th>\n",
              "      <th>Serial</th>\n",
              "      <th>Youtube_ID</th>\n",
              "      <th>Speech</th>\n",
              "      <th>Label</th>\n",
              "      <th>msg_clean</th>\n",
              "      <th>tokenized</th>\n",
              "      <th>Removed Stopped word</th>\n",
              "      <th>sentence</th>\n",
              "    </tr>\n",
              "  </thead>\n",
              "  <tbody>\n",
              "    <tr>\n",
              "      <th>0</th>\n",
              "      <td>1</td>\n",
              "      <td>https://www.youtube.com/watch?v=_IzHIQvdohs</td>\n",
              "      <td>এত রাত, BNP রা এখানে যে গালাগালি দেতাসে এক কিন...</td>\n",
              "      <td>1</td>\n",
              "      <td>এত রাত BNP রা এখানে যে গালাগালি দেতাসে এক কিন্...</td>\n",
              "      <td>[এত, রাত, BNP, রা, এখানে, যে, গালাগালি, দেতাসে...</td>\n",
              "      <td>[রাত, BNP, রা, গালাগালি, দেতাসে, এক, Facebook,...</td>\n",
              "      <td>রাত BNP রা গালাগালি দেতাসে এক Facebook থাকতেও ...</td>\n",
              "    </tr>\n",
              "    <tr>\n",
              "      <th>1</th>\n",
              "      <td>2</td>\n",
              "      <td>https://www.youtube.com/watch?v=2-ndr2h28jY</td>\n",
              "      <td>জীবনের যারা মুক্তি চাইতেছে আমি তারা বাইরে আসো ...</td>\n",
              "      <td>1</td>\n",
              "      <td>জীবনের যারা মুক্তি চাইতেছে আমি তারা বাইরে আসো ...</td>\n",
              "      <td>[জীবনের, যারা, মুক্তি, চাইতেছে, আমি, তারা, বাই...</td>\n",
              "      <td>[জীবনের, মুক্তি, চাইতেছে, বাইরে, আসো, কথাবার্ত...</td>\n",
              "      <td>জীবনের মুক্তি চাইতেছে বাইরে আসো কথাবার্তা পরিম...</td>\n",
              "    </tr>\n",
              "    <tr>\n",
              "      <th>2</th>\n",
              "      <td>3</td>\n",
              "      <td>https://www.youtube.com/watch?v=88loU_FL5MM</td>\n",
              "      <td>আচ্ছা ও কি একদম পাগল হয়ে গেল নাকি? নির্লজ্জ ব...</td>\n",
              "      <td>1</td>\n",
              "      <td>আচ্ছা ও কি একদম পাগল হয়ে গেল নাকি নির্লজ্জ বে...</td>\n",
              "      <td>[আচ্ছা, ও, কি, একদম, পাগল, হয়ে, গেল, নাকি, নি...</td>\n",
              "      <td>[আচ্ছা, একদম, পাগল, নির্লজ্জ, বেহায়া, ছোটলোক,...</td>\n",
              "      <td>আচ্ছা একদম পাগল নির্লজ্জ বেহায়া ছোটলোক বাজদার...</td>\n",
              "    </tr>\n",
              "    <tr>\n",
              "      <th>3</th>\n",
              "      <td>4</td>\n",
              "      <td>https://www.youtube.com/watch?v=bMYKQydmWCE</td>\n",
              "      <td>আমাকে পরিমরি খান তুই গণভবনে শেখ হাসিনার জামা ক...</td>\n",
              "      <td>1</td>\n",
              "      <td>আমাকে পরিমরি খান তুই গণভবনে শেখ হাসিনার জামা ক...</td>\n",
              "      <td>[আমাকে, পরিমরি, খান, তুই, গণভবনে, শেখ, হাসিনার...</td>\n",
              "      <td>[পরিমরি, খান, তুই, গণভবনে, শেখ, হাসিনার, জামা,...</td>\n",
              "      <td>পরিমরি খান তুই গণভবনে শেখ হাসিনার জামা কাপড় ধ...</td>\n",
              "    </tr>\n",
              "    <tr>\n",
              "      <th>4</th>\n",
              "      <td>5</td>\n",
              "      <td>https://www.youtube.com/watch?v=E_EQzQf2TLY</td>\n",
              "      <td>এ সেফাতুল্লার কারে শালা তুই বেয়াই বেয়াই কর, ...</td>\n",
              "      <td>1</td>\n",
              "      <td>এ সেফাতুল্লার কারে শালা তুই বেয়াই বেয়াই কর ত...</td>\n",
              "      <td>[এ, সেফাতুল্লার, কারে, শালা, তুই, বেয়াই, বেয়...</td>\n",
              "      <td>[সেফাতুল্লার, কারে, শালা, তুই, বেয়াই, বেয়াই,...</td>\n",
              "      <td>সেফাতুল্লার কারে শালা তুই বেয়াই বেয়াই কর তুই...</td>\n",
              "    </tr>\n",
              "    <tr>\n",
              "      <th>5</th>\n",
              "      <td>6</td>\n",
              "      <td>https://www.youtube.com/watch?v=e_WmL_r7PYM</td>\n",
              "      <td>চৌধুরী ভাইকে মুর্তাজ বলেছে, ওর মেয়ের ভোদার মধ...</td>\n",
              "      <td>1</td>\n",
              "      <td>চৌধুরী ভাইকে মুর্তাজ বলেছে ওর মেয়ের ভোদার মধ্...</td>\n",
              "      <td>[চৌধুরী, ভাইকে, মুর্তাজ, বলেছে, ওর, মেয়ের, ভো...</td>\n",
              "      <td>[চৌধুরী, ভাইকে, মুর্তাজ, বলেছে, মেয়ের, ভোদার,...</td>\n",
              "      <td>চৌধুরী ভাইকে মুর্তাজ বলেছে মেয়ের ভোদার মেয়ের...</td>\n",
              "    </tr>\n",
              "    <tr>\n",
              "      <th>6</th>\n",
              "      <td>7</td>\n",
              "      <td>https://www.youtube.com/watch?v=E9cRLh49gSg</td>\n",
              "      <td>দুই লাখ ছোটো লোক হারামজাদা বেদাত মূর্খ মালয়েশ...</td>\n",
              "      <td>1</td>\n",
              "      <td>দুই লাখ ছোটো লোক হারামজাদা বেদাত মূর্খ মালয়েশ...</td>\n",
              "      <td>[দুই, লাখ, ছোটো, লোক, হারামজাদা, বেদাত, মূর্খ,...</td>\n",
              "      <td>[লাখ, ছোটো, লোক, হারামজাদা, বেদাত, মূর্খ, মালয...</td>\n",
              "      <td>লাখ ছোটো লোক হারামজাদা বেদাত মূর্খ মালয়েশিয়া...</td>\n",
              "    </tr>\n",
              "    <tr>\n",
              "      <th>7</th>\n",
              "      <td>8</td>\n",
              "      <td>https://www.youtube.com/watch?v=f6dEVjhqvQc</td>\n",
              "      <td>চলে যায়. দেখছোস যে আজকে আমি মদ খাইতাছি এখন re...</td>\n",
              "      <td>1</td>\n",
              "      <td>চলে যায় দেখছোস যে আজকে আমি মদ খাইতাছি এখন red...</td>\n",
              "      <td>[চলে, যায়, দেখছোস, যে, আজকে, আমি, মদ, খাইতাছি...</td>\n",
              "      <td>[দেখছোস, আজকে, মদ, খাইতাছি, red, one, খাইতাসি,...</td>\n",
              "      <td>দেখছোস আজকে মদ খাইতাছি red one খাইতাসি মদ খাইত...</td>\n",
              "    </tr>\n",
              "    <tr>\n",
              "      <th>8</th>\n",
              "      <td>9</td>\n",
              "      <td>https://www.youtube.com/watch?v=g843KlAIm-8</td>\n",
              "      <td>আজকে জাতির সামনে আমি বেয়াদপ ভাইয়া আমি আজকে গ...</td>\n",
              "      <td>1</td>\n",
              "      <td>আজকে জাতির সামনে আমি বেয়াদপ ভাইয়া আমি আজকে গ...</td>\n",
              "      <td>[আজকে, জাতির, সামনে, আমি, বেয়াদপ, ভাইয়া, আমি...</td>\n",
              "      <td>[আজকে, জাতির, বেয়াদপ, ভাইয়া, আজকে, গালি, দিব...</td>\n",
              "      <td>আজকে জাতির বেয়াদপ ভাইয়া আজকে গালি দিবো তোমাদ...</td>\n",
              "    </tr>\n",
              "    <tr>\n",
              "      <th>9</th>\n",
              "      <td>10</td>\n",
              "      <td>https://www.youtube.com/watch?v=gtOYF4PtTQw</td>\n",
              "      <td>ছাত্রলীগের গুষ্ঠি চুরি, আওয়ামী লীগের গুষ্ঠী চ...</td>\n",
              "      <td>1</td>\n",
              "      <td>ছাত্রলীগের গুষ্ঠি চুরি আওয়ামী লীগের গুষ্ঠী চু...</td>\n",
              "      <td>[ছাত্রলীগের, গুষ্ঠি, চুরি, আওয়ামী, লীগের, গুষ...</td>\n",
              "      <td>[ছাত্রলীগের, গুষ্ঠি, চুরি, আওয়ামী, লীগের, গুষ...</td>\n",
              "      <td>ছাত্রলীগের গুষ্ঠি চুরি আওয়ামী লীগের গুষ্ঠী চু...</td>\n",
              "    </tr>\n",
              "  </tbody>\n",
              "</table>\n",
              "</div>"
            ],
            "text/plain": [
              "   Serial  ...                                           sentence\n",
              "0       1  ...  রাত BNP রা গালাগালি দেতাসে এক Facebook থাকতেও ...\n",
              "1       2  ...  জীবনের মুক্তি চাইতেছে বাইরে আসো কথাবার্তা পরিম...\n",
              "2       3  ...  আচ্ছা একদম পাগল নির্লজ্জ বেহায়া ছোটলোক বাজদার...\n",
              "3       4  ...  পরিমরি খান তুই গণভবনে শেখ হাসিনার জামা কাপড় ধ...\n",
              "4       5  ...  সেফাতুল্লার কারে শালা তুই বেয়াই বেয়াই কর তুই...\n",
              "5       6  ...  চৌধুরী ভাইকে মুর্তাজ বলেছে মেয়ের ভোদার মেয়ের...\n",
              "6       7  ...  লাখ ছোটো লোক হারামজাদা বেদাত মূর্খ মালয়েশিয়া...\n",
              "7       8  ...  দেখছোস আজকে মদ খাইতাছি red one খাইতাসি মদ খাইত...\n",
              "8       9  ...  আজকে জাতির বেয়াদপ ভাইয়া আজকে গালি দিবো তোমাদ...\n",
              "9      10  ...  ছাত্রলীগের গুষ্ঠি চুরি আওয়ামী লীগের গুষ্ঠী চু...\n",
              "\n",
              "[10 rows x 8 columns]"
            ]
          },
          "metadata": {},
          "execution_count": 13
        }
      ]
    },
    {
      "cell_type": "code",
      "metadata": {
        "colab": {
          "base_uri": "https://localhost:8080/"
        },
        "id": "SfR5KliJCkzx",
        "outputId": "b5882e6d-471c-43c6-d58d-cce30027581b"
      },
      "source": [
        "df['Label'].value_counts()"
      ],
      "execution_count": null,
      "outputs": [
        {
          "output_type": "execute_result",
          "data": {
            "text/plain": [
              "0    99\n",
              "1    93\n",
              "Name: Label, dtype: int64"
            ]
          },
          "metadata": {},
          "execution_count": 14
        }
      ]
    },
    {
      "cell_type": "markdown",
      "metadata": {
        "id": "ZMPZkJBBUCSn"
      },
      "source": [
        "##**Machine Learning Models Applied**\n",
        "1. **Linear SVC**\n",
        "2. **Multinomial Naive Bayes**\n",
        "3. **Logistic regression**\n",
        "4.**Decision Tree**"
      ]
    },
    {
      "cell_type": "markdown",
      "metadata": {
        "id": "zrJhrFpfYjAh"
      },
      "source": [
        "**TfidfVectorizer**"
      ]
    },
    {
      "cell_type": "code",
      "metadata": {
        "id": "CjPReNaHsvHZ"
      },
      "source": [
        "X=df['sentence']\n",
        "y=df['Label']\n",
        "X_train, X_test, y_train, y_test = train_test_split(X, y, test_size=0.20, random_state=42)"
      ],
      "execution_count": null,
      "outputs": []
    },
    {
      "cell_type": "code",
      "metadata": {
        "id": "37Ok4isOSqAt"
      },
      "source": [
        "vectorizer = TfidfVectorizer()\n",
        "X_train_tfvect = vectorizer.fit_transform(X_train)\n",
        "X_train_tfvect.shape\n",
        "X_test_tfvect=vectorizer.fit_transform(X_test)"
      ],
      "execution_count": null,
      "outputs": []
    },
    {
      "cell_type": "code",
      "metadata": {
        "colab": {
          "base_uri": "https://localhost:8080/"
        },
        "id": "x8OmRQyY9b1n",
        "outputId": "a48b34de-d117-48cd-e3d6-f55c028a6f2f"
      },
      "source": [
        "df.info()"
      ],
      "execution_count": null,
      "outputs": [
        {
          "output_type": "stream",
          "name": "stdout",
          "text": [
            "<class 'pandas.core.frame.DataFrame'>\n",
            "RangeIndex: 192 entries, 0 to 191\n",
            "Data columns (total 8 columns):\n",
            " #   Column                Non-Null Count  Dtype \n",
            "---  ------                --------------  ----- \n",
            " 0   Serial                192 non-null    int64 \n",
            " 1   Youtube_ID            192 non-null    object\n",
            " 2   Speech                192 non-null    object\n",
            " 3   Label                 192 non-null    int64 \n",
            " 4   msg_clean             192 non-null    object\n",
            " 5   tokenized             192 non-null    object\n",
            " 6   Removed Stopped word  192 non-null    object\n",
            " 7   sentence              192 non-null    object\n",
            "dtypes: int64(2), object(6)\n",
            "memory usage: 12.1+ KB\n"
          ]
        }
      ]
    },
    {
      "cell_type": "markdown",
      "metadata": {
        "id": "6o2thqqWSVOl"
      },
      "source": [
        "## **Linear SVC**"
      ]
    },
    {
      "cell_type": "code",
      "metadata": {
        "id": "gtDQKp4OSuJQ",
        "colab": {
          "base_uri": "https://localhost:8080/"
        },
        "outputId": "34c14f34-215a-4b17-ad0b-711acddc34a2"
      },
      "source": [
        "clf = LinearSVC()\n",
        "clf.fit(X_train_tfvect,y_train)"
      ],
      "execution_count": null,
      "outputs": [
        {
          "output_type": "execute_result",
          "data": {
            "text/plain": [
              "LinearSVC(C=1.0, class_weight=None, dual=True, fit_intercept=True,\n",
              "          intercept_scaling=1, loss='squared_hinge', max_iter=1000,\n",
              "          multi_class='ovr', penalty='l2', random_state=None, tol=0.0001,\n",
              "          verbose=0)"
            ]
          },
          "metadata": {},
          "execution_count": 18
        }
      ]
    },
    {
      "cell_type": "code",
      "metadata": {
        "id": "_3umpCWWSx6d",
        "colab": {
          "base_uri": "https://localhost:8080/"
        },
        "outputId": "de9634a0-42ec-4c8c-967f-01fb3978a5e2"
      },
      "source": [
        "text_clf=Pipeline([('tfidf',TfidfVectorizer()),('clf',LinearSVC())])\n",
        "text_clf.fit(X_train,y_train)"
      ],
      "execution_count": null,
      "outputs": [
        {
          "output_type": "execute_result",
          "data": {
            "text/plain": [
              "Pipeline(memory=None,\n",
              "         steps=[('tfidf',\n",
              "                 TfidfVectorizer(analyzer='word', binary=False,\n",
              "                                 decode_error='strict',\n",
              "                                 dtype=<class 'numpy.float64'>,\n",
              "                                 encoding='utf-8', input='content',\n",
              "                                 lowercase=True, max_df=1.0, max_features=None,\n",
              "                                 min_df=1, ngram_range=(1, 1), norm='l2',\n",
              "                                 preprocessor=None, smooth_idf=True,\n",
              "                                 stop_words=None, strip_accents=None,\n",
              "                                 sublinear_tf=False,\n",
              "                                 token_pattern='(?u)\\\\b\\\\w\\\\w+\\\\b',\n",
              "                                 tokenizer=None, use_idf=True,\n",
              "                                 vocabulary=None)),\n",
              "                ('clf',\n",
              "                 LinearSVC(C=1.0, class_weight=None, dual=True,\n",
              "                           fit_intercept=True, intercept_scaling=1,\n",
              "                           loss='squared_hinge', max_iter=1000,\n",
              "                           multi_class='ovr', penalty='l2', random_state=None,\n",
              "                           tol=0.0001, verbose=0))],\n",
              "         verbose=False)"
            ]
          },
          "metadata": {},
          "execution_count": 19
        }
      ]
    },
    {
      "cell_type": "code",
      "metadata": {
        "id": "47-HKxN-S170"
      },
      "source": [
        "predictions=text_clf.predict(X_test)"
      ],
      "execution_count": null,
      "outputs": []
    },
    {
      "cell_type": "code",
      "metadata": {
        "id": "9BuzFfp2S4rn",
        "colab": {
          "base_uri": "https://localhost:8080/"
        },
        "outputId": "4a88779d-e59a-4712-dd6f-8102902ceffe"
      },
      "source": [
        "from sklearn import metrics\n",
        "print(metrics.confusion_matrix(y_test,predictions))"
      ],
      "execution_count": null,
      "outputs": [
        {
          "output_type": "stream",
          "name": "stdout",
          "text": [
            "[[22  1]\n",
            " [ 0 16]]\n"
          ]
        }
      ]
    },
    {
      "cell_type": "code",
      "metadata": {
        "id": "GD4Hg0hdS7md",
        "colab": {
          "base_uri": "https://localhost:8080/"
        },
        "outputId": "425e4c56-30cc-4008-b6f7-d7b4e203b83c"
      },
      "source": [
        "print(metrics.classification_report(y_test,predictions))"
      ],
      "execution_count": null,
      "outputs": [
        {
          "output_type": "stream",
          "name": "stdout",
          "text": [
            "              precision    recall  f1-score   support\n",
            "\n",
            "           0       1.00      0.96      0.98        23\n",
            "           1       0.94      1.00      0.97        16\n",
            "\n",
            "    accuracy                           0.97        39\n",
            "   macro avg       0.97      0.98      0.97        39\n",
            "weighted avg       0.98      0.97      0.97        39\n",
            "\n"
          ]
        }
      ]
    },
    {
      "cell_type": "code",
      "metadata": {
        "colab": {
          "base_uri": "https://localhost:8080/",
          "height": 295
        },
        "id": "zmAgjIoFEUoX",
        "outputId": "d909dd93-b97e-4504-c324-6380504befd0"
      },
      "source": [
        "from sklearn.metrics import roc_curve, auc\n",
        "#train_fpr, train_tpr, tr_thresholds = roc_curve(y_train, y_train_pred)\n",
        "test_fpr, test_tpr, te_thresholds = roc_curve(y_test, predictions)\n",
        "\n",
        "plt.grid()\n",
        "\n",
        "#plt.plot(train_fpr, train_tpr, label=\" AUC TRAIN =\"+str(auc(train_fpr, train_tpr)))\n",
        "plt.plot(test_fpr, test_tpr, label=\" AUC TEST =\"+str(auc(test_fpr, test_tpr)))\n",
        "plt.plot([0,1],[0,1],'r--')\n",
        "plt.legend()\n",
        "plt.xlabel(\"True Positive Rate\")\n",
        "plt.ylabel(\"False Positive Rate\")\n",
        "plt.title(\"AUC(ROC curve)\")\n",
        "plt.grid(color='black', linestyle='-', linewidth=0.5)\n",
        "plt.show()"
      ],
      "execution_count": null,
      "outputs": [
        {
          "output_type": "display_data",
          "data": {
            "image/png": "[encoded data removed]",
            "text/plain": [
              "<Figure size 432x288 with 1 Axes>"
            ]
          },
          "metadata": {
            "needs_background": "light"
          }
        }
      ]
    },
    {
      "cell_type": "markdown",
      "metadata": {
        "id": "05wUygL5svHa"
      },
      "source": [
        "## **Multinomial Naive Bayes**"
      ]
    },
    {
      "cell_type": "code",
      "metadata": {
        "id": "cFJTZJk_svHa",
        "colab": {
          "base_uri": "https://localhost:8080/"
        },
        "outputId": "b9320a88-e9a6-4a91-b81e-0415eecb2bfd"
      },
      "source": [
        "nb_model = MultinomialNB()\n",
        "\n",
        "nb_model.fit(X_train_tfvect, y_train)"
      ],
      "execution_count": null,
      "outputs": [
        {
          "output_type": "execute_result",
          "data": {
            "text/plain": [
              "MultinomialNB(alpha=1.0, class_prior=None, fit_prior=True)"
            ]
          },
          "metadata": {},
          "execution_count": 29
        }
      ]
    },
    {
      "cell_type": "code",
      "metadata": {
        "id": "JsvWK7vQsvHa",
        "colab": {
          "base_uri": "https://localhost:8080/"
        },
        "outputId": "daa7c781-d88f-4a2d-a2b5-e71a8e78eb32"
      },
      "source": [
        "text_clf=Pipeline([('tfidf',TfidfVectorizer()),('nb_model',MultinomialNB())])\n",
        "text_clf.fit(X_train,y_train)"
      ],
      "execution_count": null,
      "outputs": [
        {
          "output_type": "execute_result",
          "data": {
            "text/plain": [
              "Pipeline(memory=None,\n",
              "         steps=[('tfidf',\n",
              "                 TfidfVectorizer(analyzer='word', binary=False,\n",
              "                                 decode_error='strict',\n",
              "                                 dtype=<class 'numpy.float64'>,\n",
              "                                 encoding='utf-8', input='content',\n",
              "                                 lowercase=True, max_df=1.0, max_features=None,\n",
              "                                 min_df=1, ngram_range=(1, 1), norm='l2',\n",
              "                                 preprocessor=None, smooth_idf=True,\n",
              "                                 stop_words=None, strip_accents=None,\n",
              "                                 sublinear_tf=False,\n",
              "                                 token_pattern='(?u)\\\\b\\\\w\\\\w+\\\\b',\n",
              "                                 tokenizer=None, use_idf=True,\n",
              "                                 vocabulary=None)),\n",
              "                ('nb_model',\n",
              "                 MultinomialNB(alpha=1.0, class_prior=None, fit_prior=True))],\n",
              "         verbose=False)"
            ]
          },
          "metadata": {},
          "execution_count": 30
        }
      ]
    },
    {
      "cell_type": "code",
      "metadata": {
        "id": "U5xNPhTysvHb"
      },
      "source": [
        "predictions=text_clf.predict(X_test)"
      ],
      "execution_count": null,
      "outputs": []
    },
    {
      "cell_type": "code",
      "metadata": {
        "id": "V0AxK3m_svHb",
        "colab": {
          "base_uri": "https://localhost:8080/"
        },
        "outputId": "643726cf-d420-4f56-da8a-e1648f5a7665"
      },
      "source": [
        "from sklearn import metrics\n",
        "print(metrics.confusion_matrix(y_test,predictions))"
      ],
      "execution_count": null,
      "outputs": [
        {
          "output_type": "stream",
          "name": "stdout",
          "text": [
            "[[22  1]\n",
            " [ 0 16]]\n"
          ]
        }
      ]
    },
    {
      "cell_type": "code",
      "metadata": {
        "id": "a-cmt8iisvHc",
        "colab": {
          "base_uri": "https://localhost:8080/"
        },
        "outputId": "a0ec579c-3c3c-4750-8d50-6dc24a64316e"
      },
      "source": [
        "print(metrics.classification_report(y_test,predictions))"
      ],
      "execution_count": null,
      "outputs": [
        {
          "output_type": "stream",
          "name": "stdout",
          "text": [
            "              precision    recall  f1-score   support\n",
            "\n",
            "           0       1.00      0.96      0.98        23\n",
            "           1       0.94      1.00      0.97        16\n",
            "\n",
            "    accuracy                           0.97        39\n",
            "   macro avg       0.97      0.98      0.97        39\n",
            "weighted avg       0.98      0.97      0.97        39\n",
            "\n"
          ]
        }
      ]
    },
    {
      "cell_type": "code",
      "metadata": {
        "colab": {
          "base_uri": "https://localhost:8080/",
          "height": 295
        },
        "id": "xB8UUtQkI8Zv",
        "outputId": "6e9aa862-bf8f-4f5b-8acb-8a52eb7c03bd"
      },
      "source": [
        "from sklearn.metrics import roc_curve, auc\n",
        "#train_fpr, train_tpr, tr_thresholds = roc_curve(y_train, y_train_pred)\n",
        "test_fpr, test_tpr, te_thresholds = roc_curve(y_test, predictions)\n",
        "\n",
        "plt.grid()\n",
        "\n",
        "#plt.plot(train_fpr, train_tpr, label=\" AUC TRAIN =\"+str(auc(train_fpr, train_tpr)))\n",
        "plt.plot(test_fpr, test_tpr, label=\" AUC TEST =\"+str(auc(test_fpr, test_tpr)))\n",
        "plt.plot([0,1],[0,1],'r--')\n",
        "plt.legend()\n",
        "plt.xlabel(\"True Positive Rate\")\n",
        "plt.ylabel(\"False Positive Rate\")\n",
        "plt.title(\"AUC(ROC curve)\")\n",
        "plt.grid(color='black', linestyle='-', linewidth=0.5)\n",
        "plt.show()"
      ],
      "execution_count": null,
      "outputs": [
        {
          "output_type": "display_data",
          "data": {
            "image/png": "[encoded data removed]",
            "text/plain": [
              "<Figure size 432x288 with 1 Axes>"
            ]
          },
          "metadata": {
            "needs_background": "light"
          }
        }
      ]
    },
    {
      "cell_type": "code",
      "metadata": {
        "id": "Ib8ItNiBo026"
      },
      "source": [
        "mlnb = MultinomialNB()\n",
        "mlnb.fit(X_train_tfvect, y_train)\n",
        "predictions = mlnb.predict(x_test_count_tfidf)\n",
        "print(\"\\nAccuracy : \", accuracy_score(predictions, y_test))\n",
        "\n",
        "probs = mlnb.predict_proba(x_test_count_tfidf)\n",
        "preds = probs[:,1]\n",
        "fpr_nb, tpr_nb, threshold_nb = metrics.roc_curve(y_test, preds)\n",
        "roc_auc_nb = metrics.auc(fpr_nb, tpr_nb)\n",
        "\n",
        "    # method I: plt\n",
        "import matplotlib.pyplot as plt\n",
        "plt.title('ROC Curve for Naive Bayes')\n",
        "plt.plot(fpr_nb, tpr_nb, 'b', label = 'AUC = %0.2f' % roc_auc_nb)\n",
        "plt.legend(loc = 'lower right')\n",
        "plt.plot([0, 1], [0, 1],'r--')\n",
        "plt.xlim([0, 1])\n",
        "plt.ylim([0, 1])\n",
        "plt.ylabel('True Positive Rate')\n",
        "plt.xlabel('False Positive Rate')\n",
        "plt.show()"
      ],
      "execution_count": null,
      "outputs": []
    },
    {
      "cell_type": "markdown",
      "metadata": {
        "id": "PUeNHmM-svHc"
      },
      "source": [
        "## **Logistic regression**"
      ]
    },
    {
      "cell_type": "code",
      "metadata": {
        "id": "-GsjBllrsvHd",
        "colab": {
          "base_uri": "https://localhost:8080/"
        },
        "outputId": "e96ab9df-a35d-4864-f250-d0a7517e50c5"
      },
      "source": [
        "from sklearn.linear_model import LogisticRegression\n",
        "lr = LogisticRegression()\n",
        "lr.fit(X_train_tfvect,y_train)\n",
        "text_lr=Pipeline([('tfidf',TfidfVectorizer()),('clf',LogisticRegression())])\n",
        "text_lr.fit(X_train,y_train)"
      ],
      "execution_count": null,
      "outputs": [
        {
          "output_type": "execute_result",
          "data": {
            "text/plain": [
              "Pipeline(memory=None,\n",
              "         steps=[('tfidf',\n",
              "                 TfidfVectorizer(analyzer='word', binary=False,\n",
              "                                 decode_error='strict',\n",
              "                                 dtype=<class 'numpy.float64'>,\n",
              "                                 encoding='utf-8', input='content',\n",
              "                                 lowercase=True, max_df=1.0, max_features=None,\n",
              "                                 min_df=1, ngram_range=(1, 1), norm='l2',\n",
              "                                 preprocessor=None, smooth_idf=True,\n",
              "                                 stop_words=None, strip_accents=None,\n",
              "                                 sublinear_tf=False,\n",
              "                                 token_pattern='(?u)\\\\b\\\\w\\\\w+\\\\b',\n",
              "                                 tokenizer=None, use_idf=True,\n",
              "                                 vocabulary=None)),\n",
              "                ('clf',\n",
              "                 LogisticRegression(C=1.0, class_weight=None, dual=False,\n",
              "                                    fit_intercept=True, intercept_scaling=1,\n",
              "                                    l1_ratio=None, max_iter=100,\n",
              "                                    multi_class='auto', n_jobs=None,\n",
              "                                    penalty='l2', random_state=None,\n",
              "                                    solver='lbfgs', tol=0.0001, verbose=0,\n",
              "                                    warm_start=False))],\n",
              "         verbose=False)"
            ]
          },
          "metadata": {},
          "execution_count": 35
        }
      ]
    },
    {
      "cell_type": "code",
      "metadata": {
        "id": "IqfGRiIZsvHd"
      },
      "source": [
        "predictions=text_lr.predict(X_test)"
      ],
      "execution_count": null,
      "outputs": []
    },
    {
      "cell_type": "code",
      "metadata": {
        "id": "YbnRuveusvHd",
        "colab": {
          "base_uri": "https://localhost:8080/"
        },
        "outputId": "a123aa3a-4253-4374-bc31-ed3656775d48"
      },
      "source": [
        "print(metrics.confusion_matrix(y_test,predictions))"
      ],
      "execution_count": null,
      "outputs": [
        {
          "output_type": "stream",
          "name": "stdout",
          "text": [
            "[[22  1]\n",
            " [ 0 16]]\n"
          ]
        }
      ]
    },
    {
      "cell_type": "code",
      "metadata": {
        "id": "rBskHl_KsvHd",
        "colab": {
          "base_uri": "https://localhost:8080/"
        },
        "outputId": "9ec0fc4b-90ac-4146-b1b6-729c490dc620"
      },
      "source": [
        "print(metrics.classification_report(y_test,predictions))"
      ],
      "execution_count": null,
      "outputs": [
        {
          "output_type": "stream",
          "name": "stdout",
          "text": [
            "              precision    recall  f1-score   support\n",
            "\n",
            "           0       1.00      0.96      0.98        23\n",
            "           1       0.94      1.00      0.97        16\n",
            "\n",
            "    accuracy                           0.97        39\n",
            "   macro avg       0.97      0.98      0.97        39\n",
            "weighted avg       0.98      0.97      0.97        39\n",
            "\n"
          ]
        }
      ]
    },
    {
      "cell_type": "code",
      "metadata": {
        "colab": {
          "base_uri": "https://localhost:8080/",
          "height": 295
        },
        "id": "kBbIRrMoJNJi",
        "outputId": "eae9ec5a-a3f5-473e-f78d-635687b80616"
      },
      "source": [
        "from sklearn.metrics import roc_curve, auc\n",
        "#train_fpr, train_tpr, tr_thresholds = roc_curve(y_train, y_train_pred)\n",
        "test_fpr, test_tpr, te_thresholds = roc_curve(y_test, predictions)\n",
        "\n",
        "plt.grid()\n",
        "\n",
        "#plt.plot(train_fpr, train_tpr, label=\" AUC TRAIN =\"+str(auc(train_fpr, train_tpr)))\n",
        "plt.plot(test_fpr, test_tpr, label=\" AUC TEST =\"+str(auc(test_fpr, test_tpr)))\n",
        "plt.plot([0,1],[0,1],'r--')\n",
        "plt.legend()\n",
        "plt.xlabel(\"True Positive Rate\")\n",
        "plt.ylabel(\"False Positive Rate\")\n",
        "plt.title(\"AUC(ROC curve)\")\n",
        "plt.grid(color='black', linestyle='-', linewidth=0.5)\n",
        "plt.show()"
      ],
      "execution_count": null,
      "outputs": [
        {
          "output_type": "display_data",
          "data": {
            "image/png": "[encoded data removed]",
            "text/plain": [
              "<Figure size 432x288 with 1 Axes>"
            ]
          },
          "metadata": {
            "needs_background": "light"
          }
        }
      ]
    },
    {
      "cell_type": "markdown",
      "metadata": {
        "id": "EimKON2DsvHe"
      },
      "source": [
        "## **Decision Tree**"
      ]
    },
    {
      "cell_type": "code",
      "metadata": {
        "id": "xLpHtu_0svHe",
        "colab": {
          "base_uri": "https://localhost:8080/"
        },
        "outputId": "1311d579-bdb4-4fc9-ef96-db975308185f"
      },
      "source": [
        "from sklearn.tree import DecisionTreeClassifier\n",
        "dt = DecisionTreeClassifier()\n",
        "dt.fit(X_train_tfvect,y_train)"
      ],
      "execution_count": null,
      "outputs": [
        {
          "output_type": "execute_result",
          "data": {
            "text/plain": [
              "DecisionTreeClassifier(ccp_alpha=0.0, class_weight=None, criterion='gini',\n",
              "                       max_depth=None, max_features=None, max_leaf_nodes=None,\n",
              "                       min_impurity_decrease=0.0, min_impurity_split=None,\n",
              "                       min_samples_leaf=1, min_samples_split=2,\n",
              "                       min_weight_fraction_leaf=0.0, presort='deprecated',\n",
              "                       random_state=None, splitter='best')"
            ]
          },
          "metadata": {},
          "execution_count": 40
        }
      ]
    },
    {
      "cell_type": "code",
      "metadata": {
        "id": "eH380dFpsvHe",
        "colab": {
          "base_uri": "https://localhost:8080/"
        },
        "outputId": "36f44380-b380-4187-f121-022b704d51b2"
      },
      "source": [
        "text_dt=Pipeline([('tfidf',TfidfVectorizer()),('clf',DecisionTreeClassifier())])\n",
        "text_dt.fit(X_train,y_train)"
      ],
      "execution_count": null,
      "outputs": [
        {
          "output_type": "execute_result",
          "data": {
            "text/plain": [
              "Pipeline(memory=None,\n",
              "         steps=[('tfidf',\n",
              "                 TfidfVectorizer(analyzer='word', binary=False,\n",
              "                                 decode_error='strict',\n",
              "                                 dtype=<class 'numpy.float64'>,\n",
              "                                 encoding='utf-8', input='content',\n",
              "                                 lowercase=True, max_df=1.0, max_features=None,\n",
              "                                 min_df=1, ngram_range=(1, 1), norm='l2',\n",
              "                                 preprocessor=None, smooth_idf=True,\n",
              "                                 stop_words=None, strip_accents=None,\n",
              "                                 sublinear_tf=False,\n",
              "                                 token_pattern='...\n",
              "                                 tokenizer=None, use_idf=True,\n",
              "                                 vocabulary=None)),\n",
              "                ('clf',\n",
              "                 DecisionTreeClassifier(ccp_alpha=0.0, class_weight=None,\n",
              "                                        criterion='gini', max_depth=None,\n",
              "                                        max_features=None, max_leaf_nodes=None,\n",
              "                                        min_impurity_decrease=0.0,\n",
              "                                        min_impurity_split=None,\n",
              "                                        min_samples_leaf=1, min_samples_split=2,\n",
              "                                        min_weight_fraction_leaf=0.0,\n",
              "                                        presort='deprecated', random_state=None,\n",
              "                                        splitter='best'))],\n",
              "         verbose=False)"
            ]
          },
          "metadata": {},
          "execution_count": 41
        }
      ]
    },
    {
      "cell_type": "code",
      "metadata": {
        "id": "aJ5bdf6PsvHe"
      },
      "source": [
        "predictions=text_dt.predict(X_test)"
      ],
      "execution_count": null,
      "outputs": []
    },
    {
      "cell_type": "code",
      "metadata": {
        "id": "_j3fqUa1svHe",
        "colab": {
          "base_uri": "https://localhost:8080/"
        },
        "outputId": "6b4b10c9-6a0d-4be1-be41-07642e129adf"
      },
      "source": [
        "print(metrics.confusion_matrix(y_test,predictions))"
      ],
      "execution_count": null,
      "outputs": [
        {
          "output_type": "stream",
          "name": "stdout",
          "text": [
            "[[19  4]\n",
            " [ 4 12]]\n"
          ]
        }
      ]
    },
    {
      "cell_type": "code",
      "metadata": {
        "id": "fc_V7bCgsvHf",
        "colab": {
          "base_uri": "https://localhost:8080/"
        },
        "outputId": "dda39731-fd50-4d53-e7ce-33953b2bc30f"
      },
      "source": [
        "print(metrics.classification_report(y_test,predictions))"
      ],
      "execution_count": null,
      "outputs": [
        {
          "output_type": "stream",
          "name": "stdout",
          "text": [
            "              precision    recall  f1-score   support\n",
            "\n",
            "           0       0.83      0.83      0.83        23\n",
            "           1       0.75      0.75      0.75        16\n",
            "\n",
            "    accuracy                           0.79        39\n",
            "   macro avg       0.79      0.79      0.79        39\n",
            "weighted avg       0.79      0.79      0.79        39\n",
            "\n"
          ]
        }
      ]
    },
    {
      "cell_type": "code",
      "metadata": {
        "colab": {
          "base_uri": "https://localhost:8080/",
          "height": 295
        },
        "id": "9CWes93fJVm1",
        "outputId": "321e9bae-72c8-4717-c8fe-36ae167e9501"
      },
      "source": [
        "from sklearn.metrics import roc_curve, auc\n",
        "#train_fpr, train_tpr, tr_thresholds = roc_curve(y_train, y_train_pred)\n",
        "test_fpr, test_tpr, te_thresholds = roc_curve(y_test, predictions)\n",
        "\n",
        "plt.grid()\n",
        "\n",
        "#plt.plot(train_fpr, train_tpr, label=\" AUC TRAIN =\"+str(auc(train_fpr, train_tpr)))\n",
        "plt.plot(test_fpr, test_tpr, label=\" AUC TEST =\"+str(auc(test_fpr, test_tpr)))\n",
        "plt.plot([0,1],[0,1],'r--')\n",
        "plt.legend()\n",
        "plt.xlabel(\"True Positive Rate\")\n",
        "plt.ylabel(\"False Positive Rate\")\n",
        "plt.title(\"AUC(ROC curve)\")\n",
        "plt.grid(color='black', linestyle='-', linewidth=0.5)\n",
        "plt.show()"
      ],
      "execution_count": null,
      "outputs": [
        {
          "output_type": "display_data",
          "data": {
            "image/png": "[encoded data removed]",
            "text/plain": [
              "<Figure size 432x288 with 1 Axes>"
            ]
          },
          "metadata": {
            "needs_background": "light"
          }
        }
      ]
    }
  ]
}